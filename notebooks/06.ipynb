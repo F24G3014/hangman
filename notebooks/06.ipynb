{
  "cells": [
    {
      "cell_type": "markdown",
      "source": [
        "# 6 再帰・分割統治法"
      ],
      "metadata": {
        "id": "4VP_CEWBoSiq"
      },
      "id": "4VP_CEWBoSiq"
    },
    {
      "cell_type": "markdown",
      "source": [],
      "metadata": {
        "id": "29Y6dZfMoSir"
      },
      "id": "29Y6dZfMoSir"
    },
    {
      "cell_type": "markdown",
      "source": [
        "## 6.1 再帰と分割統治：問題にチャレンジする前に"
      ],
      "metadata": {
        "id": "ZI3yi1X5oSir"
      },
      "id": "ZI3yi1X5oSir"
    },
    {
      "cell_type": "markdown",
      "source": [],
      "metadata": {
        "id": "6D6EHGz0oSis"
      },
      "id": "6D6EHGz0oSis"
    },
    {
      "cell_type": "markdown",
      "source": [
        "### 階乗"
      ],
      "metadata": {
        "id": "Ffs2CPDGoSis"
      },
      "id": "Ffs2CPDGoSis"
    },
    {
      "cell_type": "markdown",
      "source": [
        "\n",
        "問題：[abc273_a](https://atcoder.jp/contests/abc273/tasks/abc273_a) (A Recursive Function)"
      ],
      "metadata": {
        "id": "WqI-0XZOoSis"
      },
      "id": "WqI-0XZOoSis"
    },
    {
      "cell_type": "markdown",
      "source": [
        "### 1 2 1 3 1 2 1"
      ],
      "metadata": {
        "id": "7T-KlgOXoSis"
      },
      "id": "7T-KlgOXoSis"
    },
    {
      "cell_type": "markdown",
      "source": [
        "\n",
        "再帰の練習のための問題\n",
        "\n",
        "問題：[abc247_c](https://atcoder.jp/contests/abc247/tasks/abc247_c) (1 2 1 3 1 2 1)"
      ],
      "metadata": {
        "id": "dZ6kO-7AoSit"
      },
      "id": "dZ6kO-7AoSit"
    },
    {
      "cell_type": "markdown",
      "source": [
        "### 最大公約数（教科書p.441）"
      ],
      "metadata": {
        "id": "qflATvHwoSit"
      },
      "id": "qflATvHwoSit"
    },
    {
      "cell_type": "markdown",
      "source": [
        "\n",
        "問題：[ALDS1_1_B](https://onlinejudge.u-aizu.ac.jp/courses/lesson/1/ALDS1/1/ALDS1_1_B) (Greatest Common Divisor)\n",
        "\n",
        "Program 18.5を実装して提出するとTLEになる。"
      ],
      "metadata": {
        "id": "24WhsdWfoSit"
      },
      "id": "24WhsdWfoSit"
    },
    {
      "cell_type": "code",
      "execution_count": null,
      "metadata": {
        "id": "nkXq7WMToSit"
      },
      "outputs": [],
      "source": [
        "def gcd(x, y):\n",
        "  n = min(x, y)\n",
        "  for d in range(n, 0, -1):\n",
        "    if x % d == 0 and y % d == 0:\n",
        "      return d\n",
        "\n",
        "x, y = map(int, input().split())\n",
        "print(gcd(x, y))"
      ],
      "id": "nkXq7WMToSit"
    },
    {
      "cell_type": "markdown",
      "source": [
        "> ここでEuclidのアルゴリズムを示しておくことは，無意味ではあるまい。（TAOCP 1）\n",
        "\n",
        "アルゴリズム図鑑"
      ],
      "metadata": {
        "id": "trlyb-14oSiu"
      },
      "id": "trlyb-14oSiu"
    },
    {
      "cell_type": "markdown",
      "source": [
        "## 6.2 全探索"
      ],
      "metadata": {
        "id": "aLj63zlBoSiu"
      },
      "id": "aLj63zlBoSiu"
    },
    {
      "cell_type": "markdown",
      "source": [
        "\n",
        "練習：{1, 2, 3}の部分集合を全て列挙する。"
      ],
      "metadata": {
        "id": "L7h9FPRNoSiu"
      },
      "id": "L7h9FPRNoSiu"
    },
    {
      "cell_type": "code",
      "execution_count": null,
      "metadata": {
        "id": "e1fyTi5uoSiu"
      },
      "outputs": [],
      "source": [
        "A = [1, 2, 3]\n",
        "\n",
        "def subset(A, s):\n",
        "  if len(A) == 0:  #終わり方を決める\n",
        "    print(s)\n",
        "  else:\n",
        "    subset(A[1:], s + [A[0]])  #残り,先頭を使う場合\n",
        "    subset(A[1:], s)           #残り,先頭を使わない場合\n",
        "\n",
        "subset(A, [])"
      ],
      "id": "e1fyTi5uoSiu"
    },
    {
      "cell_type": "markdown",
      "source": [
        "問題：[ALDS1_5_A](https://onlinejudge.u-aizu.ac.jp/courses/lesson/1/ALDS1/5/ALDS1_5_A) (Exhaustive Search)\n",
        "\n",
        "まずは，Program 6.4をPythonで実装して，次のコードで動作を確認する。"
      ],
      "metadata": {
        "id": "zhzRzJ-NoSiu"
      },
      "id": "zhzRzJ-NoSiu"
    },
    {
      "cell_type": "code",
      "execution_count": 2,
      "metadata": {
        "id": "CdJQFxxLoSiv",
        "outputId": "d11aea27-e24c-43f7-a0e6-e34d7a43f5c9",
        "colab": {
          "base_uri": "https://localhost:8080/"
        }
      },
      "outputs": [
        {
          "output_type": "execute_result",
          "data": {
            "text/plain": [
              "True"
            ]
          },
          "metadata": {},
          "execution_count": 2
        }
      ],
      "source": [
        "# ここでsolve(i, m)を定義する。\n",
        "def solve(i,m): # i:調べている変数の番号, m:和\n",
        "  if m == 0: return True\n",
        "  if i >= n: return False\n",
        "  res = solve(i + 1, m) or solve(i + 1, m - A[i])\n",
        "  # A[i]を, 使わない場合と使う場合\n",
        "  # どちらかがうまくいけばよいからorを使う\n",
        "  return res\n",
        "\n",
        "A = [1, 5, 7]\n",
        "n = len(A)\n",
        "solve(0, 8)"
      ],
      "id": "CdJQFxxLoSiv"
    },
    {
      "cell_type": "markdown",
      "source": [
        "それができたら，データを読み込んで処理できるようにする。"
      ],
      "metadata": {
        "id": "enZTYhuaoSiv"
      },
      "id": "enZTYhuaoSiv"
    },
    {
      "cell_type": "code",
      "execution_count": null,
      "metadata": {
        "id": "1h_tZvJToSiv"
      },
      "outputs": [],
      "source": [
        "%%writefile input.dat\n",
        "5\n",
        "1 5 7 10 21\n",
        "4\n",
        "2 4 17 8"
      ],
      "id": "1h_tZvJToSiv"
    },
    {
      "cell_type": "code",
      "execution_count": null,
      "metadata": {
        "id": "alRIDv5yoSiv"
      },
      "outputs": [],
      "source": [
        "%%writefile test.py\n",
        "n = int(input())\n",
        "A = list(map(int, input().split()))\n",
        "q = int(input())\n",
        "m = list(map(int, input().split()))\n",
        "\n",
        "for x in m:\n",
        "  if solve(0, x): print(\"yes\")\n",
        "  else: print(\"no\")"
      ],
      "id": "alRIDv5yoSiv"
    },
    {
      "cell_type": "markdown",
      "source": [
        "``` coede\n",
        "!python3 test.py < input.dat\n",
        "```\n",
        "\n",
        "TLEになってしまう場合：\n",
        "\n",
        "-   PyPy3を使う。\n",
        "-   ♠Aの部分集合で作れる数を全て求めて集合にしておいて，mについてのループで探索する。（mの要素ごとに全探索するのは効率が悪い。）"
      ],
      "metadata": {
        "id": "lVGxmd5RoSiw"
      },
      "id": "lVGxmd5RoSiw"
    },
    {
      "cell_type": "markdown",
      "source": [
        "## ♠6.3 コッホ曲線"
      ],
      "metadata": {
        "id": "MtPgxVSWoSiw"
      },
      "id": "MtPgxVSWoSiw"
    },
    {
      "cell_type": "markdown",
      "source": [
        "\n",
        "♠回転を考えない，シェルピンスキーの三角形の方が，再帰の練習には向いていると思う。\n",
        "\n",
        "> Google Colabで実行できる，シェルピンスキーの三角形をPythonで描くコード。再帰の回数を指定できるようにして\n",
        "\n",
        "（割愛）\n",
        "\n",
        "問題：[ALDS1_5_C](https://onlinejudge.u-aizu.ac.jp/courses/lesson/1/ALDS1/5/ALDS1_5_C) (Koch Curve)\n",
        "\n",
        "おまけ：コッホ曲線の描画\n",
        "\n",
        "正しく動くようになったら，次のように結果をoutput.datに保存して，それを読み込んで可視化する。"
      ],
      "metadata": {
        "id": "Ht-rZ6xsoSiw"
      },
      "id": "Ht-rZ6xsoSiw"
    },
    {
      "cell_type": "code",
      "execution_count": null,
      "metadata": {
        "id": "KLCIBUq4oSiw"
      },
      "outputs": [],
      "source": [
        "!python3 test.py < input.dat > output.dat"
      ],
      "id": "KLCIBUq4oSiw"
    },
    {
      "cell_type": "markdown",
      "source": [
        "出力例2で試す。"
      ],
      "metadata": {
        "id": "sYtJpXLxoSiw"
      },
      "id": "sYtJpXLxoSiw"
    },
    {
      "cell_type": "code",
      "execution_count": null,
      "metadata": {
        "id": "14GHBwMooSix"
      },
      "outputs": [],
      "source": [
        "%%writefile output.dat\n",
        "0.00000000 0.00000000\n",
        "11.11111111 0.00000000\n",
        "16.66666667 9.62250449\n",
        "22.22222222 0.00000000\n",
        "33.33333333 0.00000000\n",
        "38.88888889 9.62250449\n",
        "33.33333333 19.24500897\n",
        "44.44444444 19.24500897\n",
        "50.00000000 28.86751346\n",
        "55.55555556 19.24500897\n",
        "66.66666667 19.24500897\n",
        "61.11111111 9.62250449\n",
        "66.66666667 0.00000000\n",
        "77.77777778 0.00000000\n",
        "83.33333333 9.62250449\n",
        "88.88888889 0.00000000\n",
        "100.00000000 0.00000000"
      ],
      "id": "14GHBwMooSix"
    },
    {
      "cell_type": "markdown",
      "source": [
        "> 1行に1個，点の座標が記録されたファイルoutput.datを読み込んで，点を順番に直線で結んだ結果を描く。\n",
        "\n",
        "生成されるコードの例を示す。"
      ],
      "metadata": {
        "id": "iz95jclwoSix"
      },
      "id": "iz95jclwoSix"
    },
    {
      "cell_type": "code",
      "execution_count": null,
      "metadata": {
        "id": "ySHUdL3qoSix"
      },
      "outputs": [],
      "source": [
        "import matplotlib.pyplot as plt\n",
        "\n",
        "# ファイルから座標を読み込む\n",
        "points = []\n",
        "with open(\"output.dat\") as f:\n",
        "  for line in f:\n",
        "    x, y = map(float, line.strip().split())\n",
        "    points.append((x, y))\n",
        "\n",
        "# x座標とy座標に分割\n",
        "xs, ys = zip(*points)\n",
        "\n",
        "# 直線で結ぶ\n",
        "plt.plot(xs, ys, marker='o')  # 点も見えるように marker をつける\n",
        "plt.title(\"Points from output.dat\")\n",
        "plt.xlabel(\"X\")\n",
        "plt.ylabel(\"Y\")\n",
        "plt.grid(True)\n",
        "plt.axis(\"equal\")  # 比率を正確にする\n",
        "plt.show()"
      ],
      "id": "ySHUdL3qoSix"
    },
    {
      "cell_type": "markdown",
      "source": [
        "## 宿題"
      ],
      "metadata": {
        "id": "PtKNGSTboSix"
      },
      "id": "PtKNGSTboSix"
    },
    {
      "cell_type": "markdown",
      "source": [
        "\n",
        "以下の問題をAC（Accepted）にする。Pythonを使うこと。\n",
        "\n",
        "-   [abc273_a](https://atcoder.jp/contests/abc273/tasks/abc273_a) (A Recursive Function)\n",
        "-   [abc247_c](https://atcoder.jp/contests/abc247/tasks/abc247_c) (1 2 1 3 1 2 1)\n",
        "-   [ALDS1_1_B](https://onlinejudge.u-aizu.ac.jp/courses/lesson/1/ALDS1/1/ALDS1_1_B) (Greatest Common Divisor)\n",
        "-   [ALDS1_5_A](https://onlinejudge.u-aizu.ac.jp/courses/lesson/1/ALDS1/5/ALDS1_5_A) (Exhaustive Search)\n",
        "-   ♠[ALDS1_5_C](https://onlinejudge.u-aizu.ac.jp/courses/lesson/1/ALDS1/5/ALDS1_5_C) (Koch Curve)\n",
        "\n",
        "以上"
      ],
      "metadata": {
        "id": "pnTGyZG3oSix"
      },
      "id": "pnTGyZG3oSix"
    }
  ],
  "nbformat": 4,
  "nbformat_minor": 5,
  "metadata": {
    "colab": {
      "provenance": []
    },
    "language_info": {
      "name": "python"
    },
    "kernelspec": {
      "name": "python3",
      "display_name": "Python 3"
    }
  }
}