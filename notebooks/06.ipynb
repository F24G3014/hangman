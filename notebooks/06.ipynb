{
  "cells": [
    {
      "cell_type": "markdown",
      "source": [
        "# 6 再帰・分割統治法"
      ],
      "metadata": {
        "id": "zZXn1oeOwupX"
      },
      "id": "zZXn1oeOwupX"
    },
    {
      "cell_type": "markdown",
      "source": [],
      "metadata": {
        "id": "S-RBiMDtwupY"
      },
      "id": "S-RBiMDtwupY"
    },
    {
      "cell_type": "markdown",
      "source": [
        "## 6.1 再帰と分割統治：問題にチャレンジする前に"
      ],
      "metadata": {
        "id": "i2SYXL7owupZ"
      },
      "id": "i2SYXL7owupZ"
    },
    {
      "cell_type": "markdown",
      "source": [],
      "metadata": {
        "id": "F1kC_I3rwupZ"
      },
      "id": "F1kC_I3rwupZ"
    },
    {
      "cell_type": "markdown",
      "source": [
        "### 階乗"
      ],
      "metadata": {
        "id": "IbhfLHnvwupZ"
      },
      "id": "IbhfLHnvwupZ"
    },
    {
      "cell_type": "markdown",
      "source": [
        "\n",
        "問題：[abc273_a](https://atcoder.jp/contests/abc273/tasks/abc273_a) (A Recursive Function)"
      ],
      "metadata": {
        "id": "5_CPYHl-wupa"
      },
      "id": "5_CPYHl-wupa"
    },
    {
      "cell_type": "code",
      "source": [
        "def f(k):\n",
        "  if k ==  0: return 1\n",
        "  return k * f(k-1)\n",
        "\n",
        "  n = int(input())\n",
        "  print(f(n))"
      ],
      "metadata": {
        "id": "itAKy81-ya0m"
      },
      "id": "itAKy81-ya0m",
      "execution_count": 8,
      "outputs": []
    },
    {
      "cell_type": "markdown",
      "source": [
        "### 1 2 1 3 1 2 1"
      ],
      "metadata": {
        "id": "MOXXZCeswupa"
      },
      "id": "MOXXZCeswupa"
    },
    {
      "cell_type": "markdown",
      "source": [
        "\n",
        "再帰の練習のための問題\n",
        "\n",
        "問題：[abc247_c](https://atcoder.jp/contests/abc247/tasks/abc247_c) (1 2 1 3 1 2 1)"
      ],
      "metadata": {
        "id": "IGT6wuZzwupa"
      },
      "id": "IGT6wuZzwupa"
    },
    {
      "cell_type": "code",
      "source": [
        "def s(n):\n",
        "  if n == 1:\n",
        "    return [1] #まず終わりを決める\n",
        "    return s(n-1) + [n] + s(n-1)\n",
        "\n",
        "n = int(input())\n",
        "print(s(n))"
      ],
      "metadata": {
        "colab": {
          "base_uri": "https://localhost:8080/"
        },
        "id": "CsDN4sUcz50O",
        "outputId": "aeeb408e-aa0a-4290-c941-ef24aa94ab94"
      },
      "id": "CsDN4sUcz50O",
      "execution_count": 21,
      "outputs": [
        {
          "output_type": "stream",
          "name": "stdout",
          "text": [
            "2\n",
            "None\n"
          ]
        }
      ]
    },
    {
      "cell_type": "markdown",
      "source": [
        "### 最大公約数（教科書p.441）"
      ],
      "metadata": {
        "id": "ee41PPDOwupb"
      },
      "id": "ee41PPDOwupb"
    },
    {
      "cell_type": "markdown",
      "source": [
        "\n",
        "問題：[ALDS1_1_B](https://onlinejudge.u-aizu.ac.jp/courses/lesson/1/ALDS1/1/ALDS1_1_B) (Greatest Common Divisor)\n",
        "\n",
        "Program 18.5を実装して提出するとTLEになる。"
      ],
      "metadata": {
        "id": "_TOYUhvJwupb"
      },
      "id": "_TOYUhvJwupb"
    },
    {
      "cell_type": "code",
      "execution_count": 23,
      "metadata": {
        "id": "XBrcFrvHwupc",
        "outputId": "27a3546c-1791-4a6c-f9d2-4d4df73c2ddb",
        "colab": {
          "base_uri": "https://localhost:8080/"
        }
      },
      "outputs": [
        {
          "output_type": "stream",
          "name": "stdout",
          "text": [
            "147 105\n",
            "21\n"
          ]
        }
      ],
      "source": [
        "def gcd(x, y):\n",
        "  n = min(x, y)\n",
        "  for d in range(n, 0, -1):\n",
        "    if x % d == 0 and y % d == 0:\n",
        "      return d\n",
        "\n",
        "x, y = map(int, input().split())\n",
        "print(gcd(x, y))"
      ],
      "id": "XBrcFrvHwupc"
    },
    {
      "cell_type": "markdown",
      "source": [
        "> ここでEuclidのアルゴリズムを示しておくことは，無意味ではあるまい。（TAOCP 1）\n",
        "\n",
        "アルゴリズム図鑑"
      ],
      "metadata": {
        "id": "fRum4CUwwupc"
      },
      "id": "fRum4CUwwupc"
    },
    {
      "cell_type": "code",
      "source": [
        "def gcd(x, y):\n",
        "  if y == 0: return x\n",
        "  return gcd(y, x % y)\n",
        "\n",
        "x, y = map(int, input().split())\n",
        "print(gcd(x, y))"
      ],
      "metadata": {
        "id": "I3eJ8EN06t-G",
        "outputId": "2a8afdeb-ca30-44d1-e7ba-0e5352daa57e",
        "colab": {
          "base_uri": "https://localhost:8080/"
        }
      },
      "id": "I3eJ8EN06t-G",
      "execution_count": 24,
      "outputs": [
        {
          "output_type": "stream",
          "name": "stdout",
          "text": [
            "147 105\n",
            "21\n"
          ]
        }
      ]
    },
    {
      "cell_type": "markdown",
      "source": [
        "## 6.2 全探索"
      ],
      "metadata": {
        "id": "KMJ_udguwupd"
      },
      "id": "KMJ_udguwupd"
    },
    {
      "cell_type": "markdown",
      "source": [
        "\n",
        "練習：{1, 2, 3}の部分集合を全て列挙する。"
      ],
      "metadata": {
        "id": "U505rmarwupd"
      },
      "id": "U505rmarwupd"
    },
    {
      "cell_type": "code",
      "execution_count": null,
      "metadata": {
        "id": "9O0GWX4Xwupd"
      },
      "outputs": [],
      "source": [
        "A = [1, 2, 3]\n",
        "\n",
        "def subset(A, s):\n",
        "  if len(A) == 0:\n",
        "    print(s)\n",
        "  else:\n",
        "    subset(A[1:], s + [A[0]])\n",
        "    subset(A[1:], s)\n",
        "\n",
        "subset(A, [])"
      ],
      "id": "9O0GWX4Xwupd"
    },
    {
      "cell_type": "markdown",
      "source": [
        "問題：[ALDS1_5_A](https://onlinejudge.u-aizu.ac.jp/courses/lesson/1/ALDS1/5/ALDS1_5_A) (Exhaustive Search)\n",
        "\n",
        "まずは，Program 6.4をPythonで実装して，次のコードで動作を確認する。"
      ],
      "metadata": {
        "id": "t2SoKrQvwupd"
      },
      "id": "t2SoKrQvwupd"
    },
    {
      "cell_type": "code",
      "execution_count": null,
      "metadata": {
        "id": "mS4CJEdVwupd"
      },
      "outputs": [],
      "source": [
        "# ここでsolve(i, m)を定義する。\n",
        "\n",
        "A = [1, 5, 7]\n",
        "n = len(A)\n",
        "solve(0, 8)"
      ],
      "id": "mS4CJEdVwupd"
    },
    {
      "cell_type": "markdown",
      "source": [
        "それができたら，データを読み込んで処理できるようにする。"
      ],
      "metadata": {
        "id": "KIYrwC06wupd"
      },
      "id": "KIYrwC06wupd"
    },
    {
      "cell_type": "code",
      "execution_count": null,
      "metadata": {
        "id": "iLQmD8RXwupe"
      },
      "outputs": [],
      "source": [
        "%%writefile input.dat\n",
        "5\n",
        "1 5 7 10 21\n",
        "4\n",
        "2 4 17 8"
      ],
      "id": "iLQmD8RXwupe"
    },
    {
      "cell_type": "code",
      "execution_count": null,
      "metadata": {
        "id": "vhzvnciQwupe"
      },
      "outputs": [],
      "source": [
        "%%writefile test.py\n",
        "n = ...\n",
        "A = ...\n",
        "q = ...\n",
        "m = ...\n",
        "\n",
        "for x in m:\n",
        "..."
      ],
      "id": "vhzvnciQwupe"
    },
    {
      "cell_type": "markdown",
      "source": [
        "``` coede\n",
        "!python3 test.py < input.dat\n",
        "```\n",
        "\n",
        "TLEになってしまう場合：\n",
        "\n",
        "-   PyPy3を使う。\n",
        "-   ♠Aの部分集合で作れる数を全て求めて集合にしておいて，mについてのループで探索する。（mの要素ごとに全探索するのは効率が悪い。）"
      ],
      "metadata": {
        "id": "UmILMpizwupe"
      },
      "id": "UmILMpizwupe"
    },
    {
      "cell_type": "markdown",
      "source": [
        "## ♠6.3 コッホ曲線"
      ],
      "metadata": {
        "id": "Z4opS5F0wupe"
      },
      "id": "Z4opS5F0wupe"
    },
    {
      "cell_type": "markdown",
      "source": [
        "\n",
        "♠回転を考えない，シェルピンスキーの三角形の方が，再帰の練習には向いていると思う。\n",
        "\n",
        "> Google Colabで実行できる，シェルピンスキーの三角形をPythonで描くコード。再帰の回数を指定できるようにして\n",
        "\n",
        "（割愛）\n",
        "\n",
        "問題：[ALDS1_5_C](https://onlinejudge.u-aizu.ac.jp/courses/lesson/1/ALDS1/5/ALDS1_5_C) (Koch Curve)\n",
        "\n",
        "おまけ：コッホ曲線の描画\n",
        "\n",
        "正しく動くようになったら，次のように結果をoutput.datに保存して，それを読み込んで可視化する。"
      ],
      "metadata": {
        "id": "2IIpfSPGwupe"
      },
      "id": "2IIpfSPGwupe"
    },
    {
      "cell_type": "code",
      "execution_count": null,
      "metadata": {
        "id": "9iF7cUP3wupe"
      },
      "outputs": [],
      "source": [
        "!python3 test.py < input.dat > output.dat"
      ],
      "id": "9iF7cUP3wupe"
    },
    {
      "cell_type": "markdown",
      "source": [
        "出力例2で試す。"
      ],
      "metadata": {
        "id": "fNM7Vj-fwupf"
      },
      "id": "fNM7Vj-fwupf"
    },
    {
      "cell_type": "code",
      "execution_count": null,
      "metadata": {
        "id": "mJ0aiBLFwupf"
      },
      "outputs": [],
      "source": [
        "%%writefile output.dat\n",
        "0.00000000 0.00000000\n",
        "11.11111111 0.00000000\n",
        "16.66666667 9.62250449\n",
        "22.22222222 0.00000000\n",
        "33.33333333 0.00000000\n",
        "38.88888889 9.62250449\n",
        "33.33333333 19.24500897\n",
        "44.44444444 19.24500897\n",
        "50.00000000 28.86751346\n",
        "55.55555556 19.24500897\n",
        "66.66666667 19.24500897\n",
        "61.11111111 9.62250449\n",
        "66.66666667 0.00000000\n",
        "77.77777778 0.00000000\n",
        "83.33333333 9.62250449\n",
        "88.88888889 0.00000000\n",
        "100.00000000 0.00000000"
      ],
      "id": "mJ0aiBLFwupf"
    },
    {
      "cell_type": "markdown",
      "source": [
        "> 1行に1個，点の座標が記録されたファイルoutput.datを読み込んで，点を順番に直線で結んだ結果を描く。\n",
        "\n",
        "生成されるコードの例を示す。"
      ],
      "metadata": {
        "id": "gNRa3tadwupf"
      },
      "id": "gNRa3tadwupf"
    },
    {
      "cell_type": "code",
      "execution_count": null,
      "metadata": {
        "id": "165YO8XOwupf"
      },
      "outputs": [],
      "source": [
        "import matplotlib.pyplot as plt\n",
        "\n",
        "# ファイルから座標を読み込む\n",
        "points = []\n",
        "with open(\"output.dat\") as f:\n",
        "  for line in f:\n",
        "    x, y = map(float, line.strip().split())\n",
        "    points.append((x, y))\n",
        "\n",
        "# x座標とy座標に分割\n",
        "xs, ys = zip(*points)\n",
        "\n",
        "# 直線で結ぶ\n",
        "plt.plot(xs, ys, marker='o')  # 点も見えるように marker をつける\n",
        "plt.title(\"Points from output.dat\")\n",
        "plt.xlabel(\"X\")\n",
        "plt.ylabel(\"Y\")\n",
        "plt.grid(True)\n",
        "plt.axis(\"equal\")  # 比率を正確にする\n",
        "plt.show()"
      ],
      "id": "165YO8XOwupf"
    },
    {
      "cell_type": "markdown",
      "source": [
        "## 宿題"
      ],
      "metadata": {
        "id": "1nIDJ1WFwupf"
      },
      "id": "1nIDJ1WFwupf"
    },
    {
      "cell_type": "markdown",
      "source": [
        "\n",
        "以下の問題をAC（Accepted）にする。Pythonを使うこと。\n",
        "\n",
        "-   [abc273_a](https://atcoder.jp/contests/abc273/tasks/abc273_a) (A Recursive Function)\n",
        "-   [abc247_c](https://atcoder.jp/contests/abc247/tasks/abc247_c) (1 2 1 3 1 2 1)\n",
        "-   [ALDS1_1_B](https://onlinejudge.u-aizu.ac.jp/courses/lesson/1/ALDS1/1/ALDS1_1_B) (Greatest Common Divisor)\n",
        "-   [ALDS1_5_A](https://onlinejudge.u-aizu.ac.jp/courses/lesson/1/ALDS1/5/ALDS1_5_A) (Exhaustive Search)\n",
        "-   ♠[ALDS1_5_C](https://onlinejudge.u-aizu.ac.jp/courses/lesson/1/ALDS1/5/ALDS1_5_C) (Koch Curve)\n",
        "\n",
        "以上"
      ],
      "metadata": {
        "id": "mVHfDO3Fwupf"
      },
      "id": "mVHfDO3Fwupf"
    }
  ],
  "nbformat": 4,
  "nbformat_minor": 5,
  "metadata": {
    "colab": {
      "provenance": []
    },
    "language_info": {
      "name": "python"
    },
    "kernelspec": {
      "name": "python3",
      "display_name": "Python 3"
    }
  }
}