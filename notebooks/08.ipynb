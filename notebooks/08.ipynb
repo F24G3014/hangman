{
  "cells": [
    {
      "cell_type": "markdown",
      "source": [
        "# 木"
      ],
      "metadata": {
        "id": "P3WONzk21L9d"
      },
      "id": "P3WONzk21L9d"
    },
    {
      "cell_type": "markdown",
      "source": [],
      "metadata": {
        "id": "0AgZAFgv1L9e"
      },
      "id": "0AgZAFgv1L9e"
    },
    {
      "cell_type": "markdown",
      "source": [
        "## 木構造：問題にチャレンジする前に"
      ],
      "metadata": {
        "id": "6AxlUrjH1L9e"
      },
      "id": "6AxlUrjH1L9e"
    },
    {
      "cell_type": "markdown",
      "source": [
        "\n",
        "キーワード：根付き木，節点（node），辺（edge），親（parent），子（child），兄弟（sibling），根（root），内部接点（internal node），葉（leaf），次数（degree），深さ（depth），高さ（height）"
      ],
      "metadata": {
        "id": "AxINieAg1L9f"
      },
      "id": "AxINieAg1L9f"
    },
    {
      "cell_type": "markdown",
      "source": [
        "### ♠木を扱うライブラリ"
      ],
      "metadata": {
        "id": "zvxxObHd1L9f"
      },
      "id": "zvxxObHd1L9f"
    },
    {
      "cell_type": "markdown",
      "source": [
        "\n",
        "根付き木の表現の問題をnetworkxで解く例を後で示すが，AIZU Online Judgeでは使えないし，そもそも，ここで扱う問題では，あまり御利益がない。\n",
        "\n",
        "|                  | anytree        | networkx                     |\n",
        "|------------------|----------------|------------------------------|\n",
        "| 用途             | 木構造         | グラフ（後の章でも使える。） |\n",
        "| Google Colab     | 要インストール | ○                            |\n",
        "| ノードの種類判別 | ○              | △                            |\n",
        "| 深さ             | ○              | △                            |\n",
        "| 高さ             | ○              | ×                            |\n",
        "| 子の取得         | ○              | ○                            |\n",
        "| 木の巡回         | inorder以外は○ | ×                            |\n",
        "| 可視化           | ○              | ○                            |"
      ],
      "metadata": {
        "id": "Lz2PKncm1L9f"
      },
      "id": "Lz2PKncm1L9f"
    },
    {
      "cell_type": "markdown",
      "source": [
        "### プログラミングテクニック"
      ],
      "metadata": {
        "id": "Vnh3MkAD1L9g"
      },
      "id": "Vnh3MkAD1L9g"
    },
    {
      "cell_type": "markdown",
      "source": [
        "\n",
        "printで改行しない。"
      ],
      "metadata": {
        "id": "izZt_Vnx1L9g"
      },
      "id": "izZt_Vnx1L9g"
    },
    {
      "cell_type": "code",
      "execution_count": null,
      "metadata": {
        "id": "RJPiEFYM1L9g"
      },
      "outputs": [],
      "source": [
        "print(\"foo\", end=\"\")\n",
        "print(\"bar\")"
      ],
      "id": "RJPiEFYM1L9g"
    },
    {
      "cell_type": "markdown",
      "source": [
        "入力の，後ろの方をまとめてリストに格納する方法"
      ],
      "metadata": {
        "id": "T6M67WHy1L9h"
      },
      "id": "T6M67WHy1L9h"
    },
    {
      "cell_type": "code",
      "execution_count": null,
      "metadata": {
        "id": "RasDLr301L9h"
      },
      "outputs": [],
      "source": [
        "a, *b = [1, 2, 3, 4]\n",
        "print(a)\n",
        "print(b)"
      ],
      "id": "RasDLr301L9h"
    },
    {
      "cell_type": "markdown",
      "source": [
        "文字列表示で便利な機能"
      ],
      "metadata": {
        "id": "R0yD4ZA31L9h"
      },
      "id": "R0yD4ZA31L9h"
    },
    {
      "cell_type": "code",
      "execution_count": null,
      "metadata": {
        "id": "us9S5HnP1L9h"
      },
      "outputs": [],
      "source": [
        "foo = 123\n",
        "print(f'foo = {foo}')\n",
        "print(f'{foo = }')"
      ],
      "id": "us9S5HnP1L9h"
    },
    {
      "cell_type": "markdown",
      "source": [
        "Noneと空のリストの検査\n",
        "\n",
        "| チェック内容           | 安全な書き方        | 危険な書き方 |\n",
        "|------------------------|---------------------|--------------|\n",
        "| `a` が `None` か       | `if a is None:`     | `if not a:`  |\n",
        "| `a` が `None` でないか | `if a is not None:` | `if a:`      |\n",
        "| リスト`a`が空か        | `if len(a) == 0:`   | `if not a:`  |\n",
        "| リスト`a`が空でないか  | `if len(a) > 0:`    | `if a:`      |"
      ],
      "metadata": {
        "id": "sEuC3dT-1L9h"
      },
      "id": "sEuC3dT-1L9h"
    },
    {
      "cell_type": "markdown",
      "source": [
        "## 根付き木の表現"
      ],
      "metadata": {
        "id": "wsIZ2RD71L9h"
      },
      "id": "wsIZ2RD71L9h"
    },
    {
      "cell_type": "markdown",
      "source": [
        "\n",
        "問題：[ALDS 1_7_A](https://onlinejudge.u-aizu.ac.jp/courses/lesson/1/ALDS1/7/ALDS1_7_A) (Rooted Trees)"
      ],
      "metadata": {
        "id": "p_d27UUx1L9i"
      },
      "id": "p_d27UUx1L9i"
    },
    {
      "cell_type": "code",
      "execution_count": null,
      "metadata": {
        "id": "w9dlWKbr1L9i"
      },
      "outputs": [],
      "source": [
        "%%writefile input1.dat\n",
        "13\n",
        "0 3 1 4 10\n",
        "1 2 2 3\n",
        "2 0\n",
        "3 0\n",
        "4 3 5 6 7\n",
        "5 0\n",
        "6 0\n",
        "7 2 8 9\n",
        "8 0\n",
        "9 0\n",
        "10 2 11 12\n",
        "11 0\n",
        "12 0"
      ],
      "id": "w9dlWKbr1L9i"
    },
    {
      "cell_type": "markdown",
      "source": [
        "### ♠networkxを使った解法"
      ],
      "metadata": {
        "id": "cPlBsSHh1L9i"
      },
      "id": "cPlBsSHh1L9i"
    },
    {
      "cell_type": "code",
      "execution_count": null,
      "metadata": {
        "id": "W8XzDpCg1L9i"
      },
      "outputs": [],
      "source": [
        "import networkx as nx\n",
        "\n",
        "with open('input1.dat') as f: lines = f.readlines()\n",
        "\n",
        "G = nx.DiGraph()\n",
        "\n",
        "n = int(lines[0])\n",
        "for line in lines[1:]:\n",
        "  parent, _, *children = list(map(int, line.split()))\n",
        "  for child in children: G.add_edge(parent, child)\n",
        "  # ここで親子関係や子のリストを記憶すれば話は簡単だが，ここでは汎用的な方法を示す。\n",
        "\n",
        "def node_type(G, node):\n",
        "  if G.in_degree(node) == 0: return \"root\"    # 入次数が0なら根\n",
        "  elif G.out_degree(node) == 0: return \"leaf\" # 出次数が0なら葉\n",
        "  return \"internal\"                           # 他は内部節点\n",
        "\n",
        "# 入次数が0のものが根（根付き木では1個しかない）\n",
        "root = [node for node, degree in G.in_degree() if degree == 0][0]\n",
        "\n",
        "# 根からの距離が深さ\n",
        "depths = nx.single_source_shortest_path_length(G, root)\n",
        "\n",
        "# 全てのノードについて，親を探す\n",
        "parents = {root: -1} # 根の親はない\n",
        "for u, v in nx.bfs_edges(G, root): parents[v] = u\n",
        "\n",
        "for i in range(n):\n",
        "  parent = parents[i]\n",
        "  depth = depths[i]\n",
        "  nodetype = node_type(G, i)\n",
        "  children = sorted(G.successors(i)) # 入力から明らかだが，ここでは改めて求める。\n",
        "  print(f'node {i}: {parent = }, {depth = }, {nodetype}, {children}')\n",
        "\n",
        "# おまけ（可視化）\n",
        "import graphviz\n",
        "dot = graphviz.Digraph()\n",
        "dot.edges((str(u), str(v)) for u, v in G.edges)\n",
        "dot"
      ],
      "id": "W8XzDpCg1L9i"
    },
    {
      "cell_type": "markdown",
      "source": [
        "anytreeのコードは，このコードをAIで翻訳すれば得られるだろう。"
      ],
      "metadata": {
        "id": "rzHGX1gP1L9i"
      },
      "id": "rzHGX1gP1L9i"
    },
    {
      "cell_type": "markdown",
      "source": [
        "### 自分で実装する"
      ],
      "metadata": {
        "id": "AI0w7sld1L9i"
      },
      "id": "AI0w7sld1L9i"
    },
    {
      "cell_type": "markdown",
      "source": [
        "\n",
        "教科書では**左子右兄弟表現**を使っているが，ここでは最低限の実装で済ませる（教科書も，左子右兄弟表現はこの問題でしか使っていない）。\n",
        "\n",
        "ここで理解したいこと：\n",
        "\n",
        "-   ノードをクラスで表現する。\n",
        "-   木の操作（ここでは深さの計算）には再帰が向いている。\n",
        "-   木を管理する変数をグローバル変数にするか，引数で渡すか（Program 8.2，8.3，8.4を参照）。"
      ],
      "metadata": {
        "id": "TQnz1mZb1L9j"
      },
      "id": "TQnz1mZb1L9j"
    },
    {
      "cell_type": "code",
      "execution_count": null,
      "metadata": {
        "id": "xF7f2pHQ1L9j"
      },
      "outputs": [],
      "source": [
        "%%writefile test.py\n",
        "class Node:\n",
        "  def __init__(self, key):\n",
        "    self.key = key\n",
        "    self.parent = None\n",
        "    self.children = []\n",
        "\n",
        "  def getDepth(self):\n",
        "    # 自分で実装する。\n",
        "\n",
        "  def getNodetype(self):\n",
        "    if self.parent is None: return \"root\"\n",
        "    if len(self.children) > 0: return \"internal node\"\n",
        "    return \"leaf\"\n",
        "\n",
        "  def __str__(self):\n",
        "    parent = self.parent.key if self.parent is not None else -1\n",
        "    depth = self.getDepth()\n",
        "    return f'node {self.key}: {parent = }, {depth = }, {self.getNodetype()}, {self.children}'\n",
        "\n",
        "# 入力\n",
        "n = int(input())\n",
        "T = [Node(k) for k in range(n)] # ノードをリストを木とみなす。\n",
        "\n",
        "for _ in range(n):\n",
        "  k, _, *children = map(int, input().split())\n",
        "  node = T[k]\n",
        "  node.children = children\n",
        "  for c in children: T[c].parent = node\n",
        "\n",
        "for node in T: print(node)"
      ],
      "id": "xF7f2pHQ1L9j"
    },
    {
      "cell_type": "code",
      "execution_count": null,
      "metadata": {
        "id": "XLeFOV1c1L9j"
      },
      "outputs": [],
      "source": [
        "!python3 test.py < input1.dat"
      ],
      "id": "XLeFOV1c1L9j"
    },
    {
      "cell_type": "markdown",
      "source": [
        "うまく行ったら提出する。"
      ],
      "metadata": {
        "id": "9FJJw-ci1L9j"
      },
      "id": "9FJJw-ci1L9j"
    },
    {
      "cell_type": "markdown",
      "source": [
        "## 二分木の表現"
      ],
      "metadata": {
        "id": "jfn_f1Eb1L9j"
      },
      "id": "jfn_f1Eb1L9j"
    },
    {
      "cell_type": "markdown",
      "source": [
        "\n",
        "問題：[ALDS 1_7_B](https://onlinejudge.u-aizu.ac.jp/courses/lesson/1/ALDS1/7/ALDS1_7_B) (Binary Tree)\n",
        "\n",
        "ここで理解したいこと：\n",
        "\n",
        "-   二分木のノードの実装\n",
        "-   （再帰）兄弟を求めるときは，自分が左の子なのか右の子なのかを知る必要がある。\n",
        "-   （再帰）ノードの高さは，左の子の高さと右の子の高さの最大値に1を足すことで求められる。"
      ],
      "metadata": {
        "id": "2aY410BO1L9j"
      },
      "id": "2aY410BO1L9j"
    },
    {
      "cell_type": "code",
      "execution_count": 2,
      "metadata": {
        "id": "rnWz2u3u1L9j",
        "outputId": "5ba52a8c-de0d-4d2d-f057-7c219ddb86ed",
        "colab": {
          "base_uri": "https://localhost:8080/"
        }
      },
      "outputs": [
        {
          "output_type": "stream",
          "name": "stdout",
          "text": [
            "Writing input2.dat\n"
          ]
        }
      ],
      "source": [
        "%%writefile input2.dat\n",
        "9\n",
        "0 1 4\n",
        "1 2 3\n",
        "2 -1 -1\n",
        "3 -1 -1\n",
        "4 5 8\n",
        "5 6 7\n",
        "6 -1 -1\n",
        "7 -1 -1\n",
        "8 -1 -1"
      ],
      "id": "rnWz2u3u1L9j"
    },
    {
      "cell_type": "code",
      "execution_count": 3,
      "metadata": {
        "id": "VK9rlxxn1L9j",
        "outputId": "3415e290-08f6-46db-f3ca-12b1eeff1e89",
        "colab": {
          "base_uri": "https://localhost:8080/"
        }
      },
      "outputs": [
        {
          "output_type": "stream",
          "name": "stdout",
          "text": [
            "Overwriting test.py\n"
          ]
        }
      ],
      "source": [
        "%%writefile test.py\n",
        "class Node:\n",
        "  def __init__(self, key):\n",
        "    self.key = key\n",
        "    self.parent = None\n",
        "    self.left = None\n",
        "    self.right = None\n",
        "\n",
        "  def getDepth(self):\n",
        "    if self.parent is None: return 0\n",
        "    return self.parent.getDepth() + 1\n",
        "\n",
        "  def getNodetype(self):\n",
        "    if self.parent is None: return \"root\"\n",
        "    if self.left is not None or self.right is not None: return \"internal node\"\n",
        "    return \"leaf\"\n",
        "\n",
        "  def getSibling(self):\n",
        "    if self.parent is None: return None\n",
        "    if self.parent.left is self: return self.parent.right\n",
        "    return self.parent.left\n",
        "\n",
        "  def getDegree(self):\n",
        "    degree = 0\n",
        "    if self.left is not None: degree += 1\n",
        "    if self.right is not None: degree += 1\n",
        "    return degree\n",
        "\n",
        "  def getHeight(self):\n",
        "    # 左の子の高さと右の子の高さの最大値+1\n",
        "    if self.left is not None and self.right is not None:\n",
        "      return max(self.left.getHeight(), self.right.getHeight())\n",
        "    if self.left is not None: return self.left.getHeight() + 1\n",
        "    if self.right is not None: return self.right.getHeight() + 1\n",
        "    return 0\n",
        "\n",
        "  def __str__(self):\n",
        "    parent = self.parent.key if self.parent is not None else -1\n",
        "    sibling = self.getSibling().key if self.getSibling() is not None else -1\n",
        "    degree = self.getDegree()\n",
        "    depth = self.getDepth()\n",
        "    height = self.getHeight()\n",
        "    return f'node {self.key}: {parent = }, {sibling = }, {degree = }, {depth = }, {height = }, {self.getNodetype()}'\n",
        "\n",
        "n = int(input())\n",
        "T = [Node(k) for k in range(n)] # ノードをリストを木とみなす。\n",
        "\n",
        "for _ in range(n):\n",
        "  k, left, right = map(int, input().split())\n",
        "  node = T[k]\n",
        "  if left != -1: node.left = T[left]\n",
        "  if right != -1: node.right = T[right]\n",
        "  if node.left is not None: node.left.parent = node\n",
        "  if node.right is not None: node.right.parent = node\n",
        "\n",
        "for node in T: print(node)"
      ],
      "id": "VK9rlxxn1L9j"
    },
    {
      "cell_type": "code",
      "execution_count": 4,
      "metadata": {
        "id": "OX_Zg0SU1L9k",
        "outputId": "588fec38-b8a4-4091-ef48-88b468a9bb4e",
        "colab": {
          "base_uri": "https://localhost:8080/"
        }
      },
      "outputs": [
        {
          "output_type": "stream",
          "name": "stdout",
          "text": [
            "node 0: parent = -1, sibling = -1, degree = 2, depth = 0, height = 0, root\n",
            "node 1: parent = 0, sibling = 4, degree = 2, depth = 1, height = 0, internal node\n",
            "node 2: parent = 1, sibling = 3, degree = 0, depth = 2, height = 0, leaf\n",
            "node 3: parent = 1, sibling = 2, degree = 0, depth = 2, height = 0, leaf\n",
            "node 4: parent = 0, sibling = 1, degree = 2, depth = 1, height = 0, internal node\n",
            "node 5: parent = 4, sibling = 8, degree = 2, depth = 2, height = 0, internal node\n",
            "node 6: parent = 5, sibling = 7, degree = 0, depth = 3, height = 0, leaf\n",
            "node 7: parent = 5, sibling = 6, degree = 0, depth = 3, height = 0, leaf\n",
            "node 8: parent = 4, sibling = 5, degree = 0, depth = 2, height = 0, leaf\n"
          ]
        }
      ],
      "source": [
        "!python3 test.py < input2.dat"
      ],
      "id": "OX_Zg0SU1L9k"
    },
    {
      "cell_type": "markdown",
      "source": [
        "うまく行ったら提出する。"
      ],
      "metadata": {
        "id": "hSVTaMmj1L9k"
      },
      "id": "hSVTaMmj1L9k"
    },
    {
      "cell_type": "markdown",
      "source": [
        "## 木の巡回"
      ],
      "metadata": {
        "id": "1ZC5XnNh1L9k"
      },
      "id": "1ZC5XnNh1L9k"
    },
    {
      "cell_type": "markdown",
      "source": [
        "\n",
        "問題：[ALDS 1_7_C](https://onlinejudge.u-aizu.ac.jp/courses/lesson/1/ALDS1/7/ALDS1_7_C) (Tree Walk)\n",
        "\n",
        "ここで理解したいこと：\n",
        "\n",
        "-   木の巡回方法3種類"
      ],
      "metadata": {
        "id": "aDcUj00o1L9k"
      },
      "id": "aDcUj00o1L9k"
    },
    {
      "cell_type": "code",
      "execution_count": 5,
      "metadata": {
        "id": "2p49gvGF1L9k",
        "outputId": "59b5a86f-415c-4cf5-96fd-683a84319fa6",
        "colab": {
          "base_uri": "https://localhost:8080/"
        }
      },
      "outputs": [
        {
          "output_type": "stream",
          "name": "stdout",
          "text": [
            "Overwriting test.py\n"
          ]
        }
      ],
      "source": [
        "%%writefile test.py\n",
        "class Node:\n",
        "  def __init__(self, key):\n",
        "    self.key = key\n",
        "    self.parent = None\n",
        "    self.left = None\n",
        "    self.right = None\n",
        "\n",
        "n = int(input())\n",
        "T = [Node(k) for k in range(n)] # ノードをリストを木とみなす。\n",
        "\n",
        "for _ in range(n):\n",
        "  k, left, right = map(int, input().split())\n",
        "  node = T[k]\n",
        "  if left != -1: node.left = T[left]\n",
        "  if right != -1: node.right = T[right]\n",
        "  if node.left is not None: node.left.parent = node\n",
        "  if node.right is not None: node.right.parent = node\n",
        "\n",
        "# ここまでは前と同じ\n",
        "\n",
        "def preParse(u):\n",
        "  if u is None: return\n",
        "  print(f' {u.key}', end='')\n",
        "  preParse(u.left)\n",
        "  preParse(u.right)\n",
        "\n",
        "def inParse(u):\n",
        "  if u is None: return\n",
        "  inParse(u.left)\n",
        "  print(f' {u.key}', end='')\n",
        "  inParse(u.right)\n",
        "\n",
        "def postParse(u):\n",
        "  if u is None: return\n",
        "  postParse(u.left)\n",
        "  postParse(u.right)\n",
        "  print(f' {u.key}', end='')\n",
        "\n",
        "# 親のないノードが根である。\n",
        "root = [node for node in T if node.parent is None][0]\n",
        "\n",
        "print(\"Preorder\")\n",
        "preParse(root)\n",
        "print()\n",
        "\n",
        "print(\"Inorder\")\n",
        "inParse(root)\n",
        "print()\n",
        "\n",
        "print(\"Postorder\")\n",
        "postParse(root)\n",
        "print()"
      ],
      "id": "2p49gvGF1L9k"
    },
    {
      "cell_type": "code",
      "execution_count": 6,
      "metadata": {
        "id": "ecY3EKv81L9k",
        "outputId": "3ff3ae0e-ebf8-491a-fd61-ed8153cacadb",
        "colab": {
          "base_uri": "https://localhost:8080/"
        }
      },
      "outputs": [
        {
          "output_type": "stream",
          "name": "stdout",
          "text": [
            "Preorder\n",
            " 0 1 2 3 4 5 6 7 8\n",
            "Inorder\n",
            " 2 1 3 0 6 5 7 4 8\n",
            "Postorder\n",
            " 2 3 1 6 7 5 8 4 0\n"
          ]
        }
      ],
      "source": [
        "!python3 test.py < input2.dat"
      ],
      "id": "ecY3EKv81L9k"
    },
    {
      "cell_type": "markdown",
      "source": [
        "うまく行ったら提出する。"
      ],
      "metadata": {
        "id": "Y76ihaq_1L9k"
      },
      "id": "Y76ihaq_1L9k"
    },
    {
      "cell_type": "markdown",
      "source": [
        "## ♠木の巡回の応用：木の復元"
      ],
      "metadata": {
        "id": "eFVNQxcE1L9l"
      },
      "id": "eFVNQxcE1L9l"
    },
    {
      "cell_type": "markdown",
      "source": [
        "\n",
        "問題：[ALDS 1_7_D](https://onlinejudge.u-aizu.ac.jp/courses/lesson/1/ALDS1/7/ALDS1_7_D) (Reconstruction of a Tree)"
      ],
      "metadata": {
        "id": "9YYjThG71L9l"
      },
      "id": "9YYjThG71L9l"
    },
    {
      "cell_type": "markdown",
      "source": [
        "## 宿題"
      ],
      "metadata": {
        "id": "IOzL7C671L9l"
      },
      "id": "IOzL7C671L9l"
    },
    {
      "cell_type": "markdown",
      "source": [
        "\n",
        "以下の問題をAC（Accepted）にする。Pythonを使うこと。\n",
        "\n",
        "-   [ALDS 1_7_A](https://onlinejudge.u-aizu.ac.jp/courses/lesson/1/ALDS1/7/ALDS1_7_A) (Rooted Trees)\n",
        "-   [ALDS 1_7_B](https://onlinejudge.u-aizu.ac.jp/courses/lesson/1/ALDS1/7/ALDS1_7_B) (Binary Tree)\n",
        "-   [ALDS 1_7_C](https://onlinejudge.u-aizu.ac.jp/courses/lesson/1/ALDS1/7/ALDS1_7_C) (Tree Walk)\n",
        "-   ♠[ALDS 1_7_D](https://onlinejudge.u-aizu.ac.jp/courses/lesson/1/ALDS1/7/ALDS1_7_D) (Reconstruction of a Tree)\n",
        "\n",
        "以上"
      ],
      "metadata": {
        "id": "CIBvY8rj1L9p"
      },
      "id": "CIBvY8rj1L9p"
    }
  ],
  "nbformat": 4,
  "nbformat_minor": 5,
  "metadata": {
    "colab": {
      "provenance": []
    },
    "language_info": {
      "name": "python"
    },
    "kernelspec": {
      "name": "python3",
      "display_name": "Python 3"
    }
  }
}