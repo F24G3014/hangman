{
  "cells": [
    {
      "cell_type": "markdown",
      "source": [
        "# 5 探索"
      ],
      "metadata": {
        "id": "o09_xbpEo-YE"
      },
      "id": "o09_xbpEo-YE"
    },
    {
      "cell_type": "markdown",
      "source": [
        "## 5.1 探索：問題にチャレンジする前に"
      ],
      "metadata": {
        "id": "Jc-Nra4ro-YI"
      },
      "id": "Jc-Nra4ro-YI"
    },
    {
      "cell_type": "markdown",
      "source": [
        "\n",
        "`[8, 13, 5, 7, 21, 11]`の中で7は何番目に現れるか？"
      ],
      "metadata": {
        "id": "iPwtw6kSo-YI"
      },
      "id": "iPwtw6kSo-YI"
    },
    {
      "cell_type": "code",
      "execution_count": null,
      "metadata": {
        "id": "d4Z6gzRbo-YJ"
      },
      "outputs": [],
      "source": [
        "A = [8, 13, 5, 7, 21, 11]\n",
        "print(A.index(7))"
      ],
      "id": "d4Z6gzRbo-YJ"
    },
    {
      "cell_type": "markdown",
      "source": [
        "3は？"
      ],
      "metadata": {
        "id": "Dk3Ae2obo-YK"
      },
      "id": "Dk3Ae2obo-YK"
    },
    {
      "cell_type": "code",
      "execution_count": null,
      "metadata": {
        "id": "GTMaMcj1o-YK"
      },
      "outputs": [],
      "source": [
        "print(A.index(3))"
      ],
      "id": "GTMaMcj1o-YK"
    },
    {
      "cell_type": "markdown",
      "source": [
        "このように，探索は簡単に実現できる。ではなぜ探索について学ぶのか。（再）\n",
        "\n",
        "> プログラミングのほぼ**すべて**の重要な側面がソートや探索の文脈中のどこかに現れているはずだ。（TAOCP Vol. 3「序」）\n",
        "\n",
        "概要\n",
        "\n",
        "| 手法     | 探索の計算量 | ライブラリを使う場合    | ライブラリを使わない場合               |\n",
        "|------------------|------------------|------------------|------------------|\n",
        "| 線形探索 | $O(n)$       | `A.index(key)`              | 関数`lenearSearch(A, key)`を実装する。 |\n",
        "| 二分探索 | $O(\\log n)$  | `bisect_left(A, key)`   | 関数`binarySearch(A, key)`を実装する。 |\n",
        "| ハッシュ | $O(1)$       | `key in A`（`A`は集合） | クラス`Table`を実装する。              |\n",
        "\n",
        ">一回探すだけなら線形探索、何度も探すなら二分探索\n",
        "\n",
        "目標：次のプロンプトで何を調べようとしているかがわかるようになる。\n",
        "\n",
        "> n=1000000, m=1000とする。0以上10^8未満の整数をランダムに重複なくn個生成してリストA，ランダムに重複なくm個生成してリストBとする。AとBの共通部分を次の五つの方法で数えて，実行時間を比較する。<br>\n",
        "> 1：Aについてのfor文と線形探索（in）を使う。<br>\n",
        "> 2：Bについてのfor文と線形探索（in）を使う。<br>\n",
        "> 3：Aをソートしてから，Bについてのfor文と二分探索（bisect_left）を使う。<br>\n",
        "> 4：Bをソートしてから，Aについてのfor文と二分探索（bisect_left）を使う。<br>\n",
        "> 5：AとBを集合に変換して共通部分の要素数を数える。\n",
        "\n",
        "生成されるコードの例を示す。"
      ],
      "metadata": {
        "id": "o8Rm_RZwo-YL"
      },
      "id": "o8Rm_RZwo-YL"
    },
    {
      "cell_type": "code",
      "execution_count": null,
      "metadata": {
        "id": "Pvd7Yd-Wo-YM"
      },
      "outputs": [],
      "source": [
        "import random\n",
        "import time\n",
        "from bisect import bisect_left\n",
        "\n",
        "# パラメータ\n",
        "n = 10**6\n",
        "m = 10**3\n",
        "MAX_VALUE = 10**8\n",
        "\n",
        "# 重複なしのリスト生成\n",
        "A = random.sample(range(MAX_VALUE), n)\n",
        "B = random.sample(range(MAX_VALUE), m)\n",
        "\n",
        "print(f\"データ準備完了: A={n}件, B={m}件, 範囲=[0,{MAX_VALUE})\")\n",
        "\n",
        "# 方法1: Aをforで回して、Bに対してin探索（線形）\n",
        "start = time.time()\n",
        "count1 = 0\n",
        "for a in A:\n",
        "    if a in B:\n",
        "        count1 += 1\n",
        "end = time.time()\n",
        "print(f\"方法1: A→B 線形探索: 共通要素数 = {count1}, 時間 = {end - start:.4f}秒\")\n",
        "\n",
        "# 方法2: Bをforで回して、Aに対してin探索（線形）\n",
        "start = time.time()\n",
        "count2 = 0\n",
        "for b in B:\n",
        "    if b in A:\n",
        "        count2 += 1\n",
        "end = time.time()\n",
        "print(f\"方法2: B→A 線形探索: 共通要素数 = {count2}, 時間 = {end - start:.4f}秒\")\n",
        "\n",
        "# 方法3: Aをソート → Bに対して二分探索\n",
        "A_sorted = sorted(A)\n",
        "start = time.time()\n",
        "count3 = 0\n",
        "for b in B:\n",
        "    i = bisect_left(A_sorted, b)\n",
        "    if i < len(A_sorted) and A_sorted[i] == b:\n",
        "        count3 += 1\n",
        "end = time.time()\n",
        "print(f\"方法3: Aソート＋B二分探索: 共通要素数 = {count3}, 時間 = {end - start:.4f}秒\")\n",
        "\n",
        "# 方法4: Bをソート → Aに対して二分探索\n",
        "B_sorted = sorted(B)\n",
        "start = time.time()\n",
        "count4 = 0\n",
        "for a in A:\n",
        "    i = bisect_left(B_sorted, a)\n",
        "    if i < len(B_sorted) and B_sorted[i] == a:\n",
        "        count4 += 1\n",
        "end = time.time()\n",
        "print(f\"方法4: Bソート＋A二分探索: 共通要素数 = {count4}, 時間 = {end - start:.4f}秒\")\n",
        "\n",
        "# 方法5: 集合で共通部分を数える\n",
        "start = time.time()\n",
        "count5 = len(set(A) & set(B))\n",
        "end = time.time()\n",
        "print(f\"方法5: setで共通部分: 共通要素数 = {count5}, 時間 = {end - start:.4f}秒\")"
      ],
      "id": "Pvd7Yd-Wo-YM"
    },
    {
      "cell_type": "markdown",
      "source": [
        "## 5.2 線形探索"
      ],
      "metadata": {
        "id": "BIBSUvP-o-YM"
      },
      "id": "BIBSUvP-o-YM"
    },
    {
      "cell_type": "markdown",
      "source": [],
      "metadata": {
        "id": "ECUDC2hRo-YN"
      },
      "id": "ECUDC2hRo-YN"
    },
    {
      "cell_type": "markdown",
      "source": [
        "### 問題1"
      ],
      "metadata": {
        "id": "5sZbchZRo-YN"
      },
      "id": "5sZbchZRo-YN"
    },
    {
      "cell_type": "markdown",
      "source": [
        "\n",
        "問題：[AD02](https://atcoder.jp/contests/tessoku-book/tasks/tessoku_book_b) (Linear Search)"
      ],
      "metadata": {
        "id": "pTUTvR97o-YN"
      },
      "id": "pTUTvR97o-YN"
    },
    {
      "cell_type": "code",
      "execution_count": null,
      "metadata": {
        "id": "Yj4H5FQWo-YN"
      },
      "outputs": [],
      "source": [
        "%%writefile input.dat\n",
        "5 40\n",
        "10 20 30 40 50"
      ],
      "id": "Yj4H5FQWo-YN"
    },
    {
      "cell_type": "markdown",
      "source": [
        "#### ライブラリを使う場合"
      ],
      "metadata": {
        "id": "Vgd-wK_bo-YN"
      },
      "id": "Vgd-wK_bo-YN"
    },
    {
      "cell_type": "markdown",
      "source": [
        "\n",
        "`in`を使う。"
      ],
      "metadata": {
        "id": "Xh5Lh0S1o-YN"
      },
      "id": "Xh5Lh0S1o-YN"
    },
    {
      "cell_type": "code",
      "execution_count": 7,
      "metadata": {
        "id": "A4BSPr1fo-YN",
        "outputId": "fce14aa4-bebf-412e-ddb3-a37d6b1ae388",
        "colab": {
          "base_uri": "https://localhost:8080/"
        }
      },
      "outputs": [
        {
          "output_type": "stream",
          "name": "stdout",
          "text": [
            "Overwriting test.py\n"
          ]
        }
      ],
      "source": [
        "%%writefile test.py\n",
        "N, X = map(int, input().split())\n",
        "A = list(map(int, input().split()))\n",
        "\n",
        "# あとは自分で書く\n",
        "if X in A: print(\"Yes\")\n",
        "else: print(\"No\")"
      ],
      "id": "A4BSPr1fo-YN"
    },
    {
      "cell_type": "code",
      "execution_count": 3,
      "metadata": {
        "id": "p_cAkS_do-YO",
        "outputId": "146367fd-76c3-4db0-a3be-a747447f4204",
        "colab": {
          "base_uri": "https://localhost:8080/"
        }
      },
      "outputs": [
        {
          "output_type": "stream",
          "name": "stdout",
          "text": [
            "/bin/bash: line 1: input.dat: No such file or directory\n"
          ]
        }
      ],
      "source": [
        "!python3 test.py < input.dat"
      ],
      "id": "p_cAkS_do-YO"
    },
    {
      "cell_type": "markdown",
      "source": [
        "問題なさそうなら提出する。\n",
        "\n",
        "♠入力を整数にする必要はあるだろうか。"
      ],
      "metadata": {
        "id": "QJSdMsZho-YO"
      },
      "id": "QJSdMsZho-YO"
    },
    {
      "cell_type": "markdown",
      "source": [
        "#### ライブラリを使わない場合"
      ],
      "metadata": {
        "id": "RbdKKSk7o-YO"
      },
      "id": "RbdKKSk7o-YO"
    },
    {
      "cell_type": "markdown",
      "source": [
        "\n",
        "線形探索を行う関数`linearSearch(A, key)`を実装する（探索には`in`を使わない）。"
      ],
      "metadata": {
        "id": "LKG-SfHjo-YO"
      },
      "id": "LKG-SfHjo-YO"
    },
    {
      "cell_type": "code",
      "execution_count": null,
      "metadata": {
        "id": "AUBZB5t4o-YO"
      },
      "outputs": [],
      "source": [
        "N, X = map(int, input().split())\n",
        "A = list(map(int, input().split()))\n",
        "\n",
        "def linearSearch(A, key):\n",
        "  # あとは自分で書く\n",
        "  for a in A:\n",
        "    if a == key: return True\n",
        "  return False\n",
        "\n",
        "if linearSearch(A, X): print(\"Yes\")\n",
        "eles: print(\"No\")"
      ],
      "id": "AUBZB5t4o-YO"
    },
    {
      "cell_type": "code",
      "execution_count": null,
      "metadata": {
        "id": "iVqUm1Zgo-YO"
      },
      "outputs": [],
      "source": [
        "!python3 test.py < input.dat"
      ],
      "id": "iVqUm1Zgo-YO"
    },
    {
      "cell_type": "markdown",
      "source": [
        "問題なさそうなら提出する。\n",
        "\n",
        "♠線形探索は O(n)のアルゴリズムですが、番兵を使った実装は定数倍の高速化が見込まれ、大きなデータに対して効果が期待できます。 （教科書p.121）"
      ],
      "metadata": {
        "id": "ga8x8e8wo-YO"
      },
      "id": "ga8x8e8wo-YO"
    },
    {
      "cell_type": "markdown",
      "source": [
        "### 問題2"
      ],
      "metadata": {
        "id": "d6EeyxNGo-YO"
      },
      "id": "d6EeyxNGo-YO"
    },
    {
      "cell_type": "markdown",
      "source": [
        "\n",
        "問題：[ALDS1_4_A](https://onlinejudge.u-aizu.ac.jp/courses/lesson/1/ALDS1/4/ALDS1_4_A) (Linear Search)"
      ],
      "metadata": {
        "id": "QZUJ9k4fo-YO"
      },
      "id": "QZUJ9k4fo-YO"
    },
    {
      "cell_type": "code",
      "execution_count": null,
      "metadata": {
        "id": "3znVMFwoo-YP"
      },
      "outputs": [],
      "source": [
        "%%writefile input.dat\n",
        "5\n",
        "1 2 3 4 5\n",
        "3\n",
        "3 4 1"
      ],
      "id": "3znVMFwoo-YP"
    },
    {
      "cell_type": "markdown",
      "source": [
        "#### ライブラリを使う場合"
      ],
      "metadata": {
        "id": "2bp07DkCo-YP"
      },
      "id": "2bp07DkCo-YP"
    },
    {
      "cell_type": "markdown",
      "source": [
        "\n",
        "**集合**の**共通部分**を求める。"
      ],
      "metadata": {
        "id": "FkW0Ez0Qo-YP"
      },
      "id": "FkW0Ez0Qo-YP"
    },
    {
      "cell_type": "code",
      "execution_count": null,
      "metadata": {
        "id": "-cRICDS1o-YP"
      },
      "outputs": [],
      "source": [
        "%%writefile test.py\n",
        "n = int(input())\n",
        "S = set(map(int, input().split()))\n",
        "q = int(input())\n",
        "T = set(map(int, input().split()))\n",
        "\n",
        "print(len(S.intersection(T)))"
      ],
      "id": "-cRICDS1o-YP"
    },
    {
      "cell_type": "code",
      "execution_count": null,
      "metadata": {
        "id": "IzyTY2Fvo-YP"
      },
      "outputs": [],
      "source": [
        "!python3 test.py < input.dat"
      ],
      "id": "IzyTY2Fvo-YP"
    },
    {
      "cell_type": "markdown",
      "source": [
        "#### ライブラリを使わない場合"
      ],
      "metadata": {
        "id": "ITlptHCLo-YP"
      },
      "id": "ITlptHCLo-YP"
    },
    {
      "cell_type": "markdown",
      "source": [
        "\n",
        "関数`linearSearch(A, key)`を再利用する。"
      ],
      "metadata": {
        "id": "2cEeEscyo-YP"
      },
      "id": "2cEeEscyo-YP"
    },
    {
      "cell_type": "markdown",
      "source": [
        "## 5.3 二分探索"
      ],
      "metadata": {
        "id": "aHK4y656o-YP"
      },
      "id": "aHK4y656o-YP"
    },
    {
      "cell_type": "markdown",
      "source": [],
      "metadata": {
        "id": "Vl946_14o-YQ"
      },
      "id": "Vl946_14o-YQ"
    },
    {
      "cell_type": "markdown",
      "source": [
        "### 問題1"
      ],
      "metadata": {
        "id": "sFAV17Mqo-YQ"
      },
      "id": "sFAV17Mqo-YQ"
    },
    {
      "cell_type": "markdown",
      "source": [
        "\n",
        "問題：[A11](https://atcoder.jp/contests/tessoku-book/tasks/tessoku_book_k) (Binary Search 1)"
      ],
      "metadata": {
        "id": "DdM3KMseo-YQ"
      },
      "id": "DdM3KMseo-YQ"
    },
    {
      "cell_type": "code",
      "execution_count": null,
      "metadata": {
        "id": "CGL-7gq2o-YQ"
      },
      "outputs": [],
      "source": [
        "%%writefile input.dat\n",
        "15 47\n",
        "11 13 17 19 23 29 31 37 41 43 47 53 59 61 67"
      ],
      "id": "CGL-7gq2o-YQ"
    },
    {
      "cell_type": "markdown",
      "source": [
        "#### ライブラリを使う場合"
      ],
      "metadata": {
        "id": "pShBHjUWo-YQ"
      },
      "id": "pShBHjUWo-YQ"
    },
    {
      "cell_type": "markdown",
      "source": [
        "\n",
        "線形探索でもオンラインジャッジはACになるが，二分探索で解く。\n",
        "\n",
        "`bisect`モジュールを使う。指定した値が挿入される位置を返す`bisect_left`を使う。使い方："
      ],
      "metadata": {
        "id": "SmYCauY5o-YW"
      },
      "id": "SmYCauY5o-YW"
    },
    {
      "cell_type": "code",
      "execution_count": 9,
      "metadata": {
        "id": "OQooOwEHo-YW",
        "outputId": "4ade06cb-bfb1-432c-d6a1-91d79fc30239",
        "colab": {
          "base_uri": "https://localhost:8080/"
        }
      },
      "outputs": [
        {
          "output_type": "stream",
          "name": "stdout",
          "text": [
            "2\n",
            "Yes\n",
            "0\n",
            "2\n",
            "4\n"
          ]
        }
      ],
      "source": [
        "from bisect import bisect_left\n",
        "\n",
        "X = 5\n",
        "A = [2, 3, 5, 7]\n",
        "p = bisect_left(A, X)\n",
        "print(p)\n",
        "if p < len(A) and A[p] == X: print(\"Yes\")\n",
        "\n",
        "print(bisect_left(A, 1))\n",
        "print(bisect_left(A, 4))\n",
        "print(bisect_left(A, 8))"
      ],
      "id": "OQooOwEHo-YW"
    },
    {
      "cell_type": "code",
      "execution_count": 10,
      "metadata": {
        "id": "4q6LlhVto-YX",
        "outputId": "454e0379-def6-437c-bf78-deb13f52a476",
        "colab": {
          "base_uri": "https://localhost:8080/"
        }
      },
      "outputs": [
        {
          "output_type": "stream",
          "name": "stdout",
          "text": [
            "Overwriting test.py\n"
          ]
        }
      ],
      "source": [
        "%%writefile test.py\n",
        "N, X = map(int, input().split())\n",
        "A = list(map(int, input().split()))\n",
        "\n",
        "# あとは自分で書く\n",
        "from bisect import bisect_left\n",
        "\n",
        "p = bisect_left(A, X)\n",
        "print(p + 1) #問題では０からではなく１から数えていく\n",
        "\n"
      ],
      "id": "4q6LlhVto-YX"
    },
    {
      "cell_type": "code",
      "execution_count": null,
      "metadata": {
        "id": "dW3EbY2go-YX"
      },
      "outputs": [],
      "source": [
        "!python3 test.py < input.dat"
      ],
      "id": "dW3EbY2go-YX"
    },
    {
      "cell_type": "markdown",
      "source": [
        "問題なさそうなら提出する。"
      ],
      "metadata": {
        "id": "_9Fa3Fn6o-YX"
      },
      "id": "_9Fa3Fn6o-YX"
    },
    {
      "cell_type": "markdown",
      "source": [
        "#### ライブラリを使わない場合"
      ],
      "metadata": {
        "id": "-jLaTLM7o-YX"
      },
      "id": "-jLaTLM7o-YX"
    },
    {
      "cell_type": "markdown",
      "source": [
        "\n",
        "線形探索を行う関数`binarySearch(A, key)`を実装する。\n",
        "\n",
        "> **`left`は探索範囲の先頭の要素を指し，`right`は末尾の次の要素を指します。**（教科書p.123）"
      ],
      "metadata": {
        "id": "BVxzM05Ho-YX"
      },
      "id": "BVxzM05Ho-YX"
    },
    {
      "cell_type": "code",
      "execution_count": null,
      "metadata": {
        "id": "JybetWi6o-YX"
      },
      "outputs": [],
      "source": [
        "%%writefile test.py\n",
        "N, X = map(int, input().split())\n",
        "A = list(map(int, input().split()))\n",
        "\n",
        "def binarySearch(A, key):\n",
        "  # あとは自分で書く"
      ],
      "id": "JybetWi6o-YX"
    },
    {
      "cell_type": "code",
      "execution_count": null,
      "metadata": {
        "id": "T8bBOL-uo-YX"
      },
      "outputs": [],
      "source": [
        "!python3 test.py < input.dat"
      ],
      "id": "T8bBOL-uo-YX"
    },
    {
      "cell_type": "markdown",
      "source": [
        "問題なさそうなら提出する。"
      ],
      "metadata": {
        "id": "omN_nRQ6o-YX"
      },
      "id": "omN_nRQ6o-YX"
    },
    {
      "cell_type": "markdown",
      "source": [
        "### 問題2"
      ],
      "metadata": {
        "id": "r9pJv5G3o-YY"
      },
      "id": "r9pJv5G3o-YY"
    },
    {
      "cell_type": "markdown",
      "source": [
        "\n",
        "二分探索は線形探索に比べて圧倒的に速いが，対象はソート済みでなければならない。\n",
        "\n",
        "対象がソート済みでない場合，①そのまま線形探索を行うか，②ソートしてから二分探索を行うかを選ぶ。線形探索の計算量が $O(n)$ であるのに対して，ソート＋二分探索の計算量は $O(n\\log n)+O(\\log n)=O(n\\log n)$ だから，1回探索して終わりなら，ソートは時間の無駄である。何回も探索することがわかっているなら，最初にソートするとよいだろう。\n",
        "\n",
        "問題：[B11](https://atcoder.jp/contests/tessoku-book/tasks/tessoku_book_cj) (Binary Search 2)"
      ],
      "metadata": {
        "id": "LQFM6TnUo-YY"
      },
      "id": "LQFM6TnUo-YY"
    },
    {
      "cell_type": "code",
      "execution_count": null,
      "metadata": {
        "id": "tX4XY8xNo-YY"
      },
      "outputs": [],
      "source": [
        "%%writefile input.dat\n",
        "15\n",
        "83 31 11 17 32 19 23 37 43 47 53 61 67 5 55\n",
        "5\n",
        "10\n",
        "20\n",
        "30\n",
        "40\n",
        "50"
      ],
      "id": "tX4XY8xNo-YY"
    },
    {
      "cell_type": "markdown",
      "source": [
        "次のような線形探索ではTLE（time limit exceeded）になる。"
      ],
      "metadata": {
        "id": "YklaiR3Xo-YY"
      },
      "id": "YklaiR3Xo-YY"
    },
    {
      "cell_type": "code",
      "execution_count": null,
      "metadata": {
        "id": "6lVcmzAwo-YY"
      },
      "outputs": [],
      "source": [
        "%%writefile input.dat\n",
        "n = int(input())\n",
        "A = list(map(int, input().split()))\n",
        "Q = int(input())\n",
        "\n",
        "for _ in range(Q):\n",
        "  X = int(input())\n",
        "  c = 0\n",
        "  for a in A:\n",
        "    if a <= X: c += 1\n",
        "  print(c)"
      ],
      "id": "6lVcmzAwo-YY"
    },
    {
      "cell_type": "code",
      "execution_count": null,
      "metadata": {
        "id": "1JrVtarvo-YY"
      },
      "outputs": [],
      "source": [
        "!python3 test.py < input.dat"
      ],
      "id": "1JrVtarvo-YY"
    },
    {
      "cell_type": "markdown",
      "source": [
        "提出してみる。"
      ],
      "metadata": {
        "id": "81ERLCdEo-YZ"
      },
      "id": "81ERLCdEo-YZ"
    },
    {
      "cell_type": "markdown",
      "source": [
        "#### ライブラリを使う場合"
      ],
      "metadata": {
        "id": "kfCF7mmOo-YZ"
      },
      "id": "kfCF7mmOo-YZ"
    },
    {
      "cell_type": "markdown",
      "source": [
        "\n",
        "`bisect_left`を使う。"
      ],
      "metadata": {
        "id": "AF190ZR5o-YZ"
      },
      "id": "AF190ZR5o-YZ"
    },
    {
      "cell_type": "code",
      "execution_count": null,
      "metadata": {
        "id": "7L_0wWJTo-YZ"
      },
      "outputs": [],
      "source": [
        "%%writefile test.py\n",
        "n = int(input())\n",
        "A = sorted(map(int, input().split()))\n",
        "Q = int(input())\n",
        "\n",
        "from bisect import bisect_left\n",
        "\n",
        "#あとは自分で書く"
      ],
      "id": "7L_0wWJTo-YZ"
    },
    {
      "cell_type": "code",
      "execution_count": null,
      "metadata": {
        "id": "mEeZCXfNo-YZ"
      },
      "outputs": [],
      "source": [
        "!python3 test.py < input.dat"
      ],
      "id": "mEeZCXfNo-YZ"
    },
    {
      "cell_type": "markdown",
      "source": [
        "問題なさそうなら提出する。"
      ],
      "metadata": {
        "id": "A2aRqMOgo-Ya"
      },
      "id": "A2aRqMOgo-Ya"
    },
    {
      "cell_type": "markdown",
      "source": [
        "#### ライブラリを使わない場合"
      ],
      "metadata": {
        "id": "hS7C87Sjo-Ya"
      },
      "id": "hS7C87Sjo-Ya"
    },
    {
      "cell_type": "markdown",
      "source": [
        "\n",
        "関数`binarySearch(A, key)`を再利用する。"
      ],
      "metadata": {
        "id": "xOIemhsbo-Ya"
      },
      "id": "xOIemhsbo-Ya"
    },
    {
      "cell_type": "code",
      "execution_count": null,
      "metadata": {
        "id": "F_d-8AO2o-Ya"
      },
      "outputs": [],
      "source": [
        "%%writefile test.py\n",
        "n = int(input())\n",
        "A = sorted(map(int, input().split()))\n",
        "Q = int(input())\n",
        "\n",
        "def binarySearch(A, key):\n",
        "  # 再利用"
      ],
      "id": "F_d-8AO2o-Ya"
    },
    {
      "cell_type": "code",
      "execution_count": null,
      "metadata": {
        "id": "4e2LxxIoo-Ya"
      },
      "outputs": [],
      "source": [
        "!python3 test.py < input.dat"
      ],
      "id": "4e2LxxIoo-Ya"
    },
    {
      "cell_type": "markdown",
      "source": [
        "問題なさそうなら提出する。"
      ],
      "metadata": {
        "id": "bG-9VX1Mo-Yb"
      },
      "id": "bG-9VX1Mo-Yb"
    },
    {
      "cell_type": "markdown",
      "source": [
        "### 問題3"
      ],
      "metadata": {
        "id": "1L1aesb2o-Yb"
      },
      "id": "1L1aesb2o-Yb"
    },
    {
      "cell_type": "markdown",
      "source": [
        "\n",
        "問題：[ALDS1_4_B](https://onlinejudge.u-aizu.ac.jp/courses/lesson/1/ALDS1/4/ALDS1_4_B) (Binary Search)\n",
        "\n",
        "入出力の形式は[ALDS1_4_A](https://onlinejudge.u-aizu.ac.jp/courses/lesson/1/ALDS1/4/ALDS1_4_A)と同じだが，同じコードを提出するとTLEになる（**試してみる**）。"
      ],
      "metadata": {
        "id": "aoY69TEJo-Yb"
      },
      "id": "aoY69TEJo-Yb"
    },
    {
      "cell_type": "code",
      "execution_count": null,
      "metadata": {
        "id": "4zBnX2X9o-Yb"
      },
      "outputs": [],
      "source": [
        "%%writefile input.dat\n",
        "5\n",
        "1 2 3 4 5\n",
        "3\n",
        "3 4 1"
      ],
      "id": "4zBnX2X9o-Yb"
    },
    {
      "cell_type": "markdown",
      "source": [
        "#### ライブラリを使う場合"
      ],
      "metadata": {
        "id": "AROEJ4YBo-Yb"
      },
      "id": "AROEJ4YBo-Yb"
    },
    {
      "cell_type": "markdown",
      "source": [
        "\n",
        "`bisect_left`を使う。"
      ],
      "metadata": {
        "id": "zVUnRltVo-Yc"
      },
      "id": "zVUnRltVo-Yc"
    },
    {
      "cell_type": "code",
      "execution_count": null,
      "metadata": {
        "id": "9iWGnw4po-Yc"
      },
      "outputs": [],
      "source": [
        "%%writefile test.py\n",
        "n = int(input())\n",
        "S = list(map(int, input().split()))\n",
        "q = int(input())\n",
        "T = list(map(int, input().split()))\n",
        "\n",
        "from bisect import bisect_left\n",
        "\n",
        "#あとは自分で書く"
      ],
      "id": "9iWGnw4po-Yc"
    },
    {
      "cell_type": "code",
      "execution_count": null,
      "metadata": {
        "id": "NITsnwljo-Yc"
      },
      "outputs": [],
      "source": [
        "!python3 test.py < input.dat"
      ],
      "id": "NITsnwljo-Yc"
    },
    {
      "cell_type": "markdown",
      "source": [
        "問題なさそうなら提出する。"
      ],
      "metadata": {
        "id": "SKvXEqJBo-Yc"
      },
      "id": "SKvXEqJBo-Yc"
    },
    {
      "cell_type": "markdown",
      "source": [
        "#### ライブラリを使わない場合"
      ],
      "metadata": {
        "id": "v-pgEgRyo-Yc"
      },
      "id": "v-pgEgRyo-Yc"
    },
    {
      "cell_type": "markdown",
      "source": [
        "\n",
        "関数`binarySearch(A, key)`を再利用する。"
      ],
      "metadata": {
        "id": "pQDRDY_-o-Yd"
      },
      "id": "pQDRDY_-o-Yd"
    },
    {
      "cell_type": "code",
      "execution_count": null,
      "metadata": {
        "id": "eSO4t4-Xo-Yd"
      },
      "outputs": [],
      "source": [
        "%%writefile test.py\n",
        "N, X = map(int, input().split())\n",
        "A = list(map(int, input().split()))\n",
        "\n",
        "def binarySearch(A, key):\n",
        "  # 再利用"
      ],
      "id": "eSO4t4-Xo-Yd"
    },
    {
      "cell_type": "code",
      "execution_count": null,
      "metadata": {
        "id": "C4wNrMsmo-Yd"
      },
      "outputs": [],
      "source": [
        "!python3 test.py < input.dat"
      ],
      "id": "C4wNrMsmo-Yd"
    },
    {
      "cell_type": "markdown",
      "source": [
        "問題なさそうなら提出する。"
      ],
      "metadata": {
        "id": "ih0h0c3_o-Yd"
      },
      "id": "ih0h0c3_o-Yd"
    },
    {
      "cell_type": "markdown",
      "source": [
        "### ♠二分探索の有名なバグ"
      ],
      "metadata": {
        "id": "AarVu6-co-Yd"
      },
      "id": "AarVu6-co-Yd"
    },
    {
      "cell_type": "markdown",
      "source": [
        "\n",
        "アルベルト・サボイア「ビューティフル・テスト」（Andy Oram, Greg Wilson編『ビューティフルコード』（オライリー・ジャパン, 2008）の第7章）より：\n",
        "\n",
        "> 2分探索木は，非常に単純でありながら，実装を間違いやすいので，格好の例題です。ベントリーは『珠玉のプログラミング』の中で，何年も掛けて何百人ものプログラマに，基本的なアルゴリズムの説明を与えて2分探索木を実装してもらった様子を報告しています。ベントリーはそのプログラムを書くのに気前良く2時間も与えた上，好きな高水準言語（擬似コードも含みます）を選んでよいとさえしています。その結果ですが，驚いたことに，プログラムのたったの1割程度しか，2分探索を正しく実装できなかったのです。\n",
        ">\n",
        "> さらに驚くべきことがあります。ドナルド・クヌース（Donald Knuth）は『Sorting and Searching』（Donald Knuth, The Art of Computer Programming, Vol.3: Sorting and Searching, Second Edition, Addison-Wesley, 1988）において，2分探索木のアイデアは1946年に最初に公表されたにも関わらず，バグのない2分探索木のコードがはじめて公表されたのは12年以上も経ってからであると指摘しています。\n",
        ">\n",
        "> しかし，最も驚くべきことは，何千回も実装され作り変えられてきた（と思わざるを得ない），ベントリーの公式の証明済みアルゴリズムでさえ，配列が十分大きくアルゴリズムが固定小数点演算を使用した言語で実装されているときに出現する問題がある，と判ったことです。\n",
        "> Javaでは，バグは例外ArrayIndexOutOfBoundsExceptionが投げられるという形で現れます。しかしCでは，添字が配列の範囲をはみ出しても実行が続き，予期できない結果をもたらします。この最後のバグについては，ジョシュア・ブロック（Josyua Bloch）のブログ（[http://googleresearch.blogspot.com/2006/06/extra-extra-read-all-about-it-nearly.html](https://research.google/blog/extra-extra-read-all-about-it-nearly-all-binary-searches-and-mergesorts-are-broken/)）を見てください。\n",
        ">\n",
        "> 有名なバグのあるJava版の実装を示します。\n",
        "> （後略）\n",
        "\n",
        "参考：https://bugs.java.com/bugdatabase/view_bug?bug_id=5045582"
      ],
      "metadata": {
        "id": "R3pnIxE8o-Yd"
      },
      "id": "R3pnIxE8o-Yd"
    },
    {
      "cell_type": "code",
      "execution_count": null,
      "metadata": {
        "id": "1G4LuLjGo-Ye"
      },
      "outputs": [],
      "source": [
        "%%writefile BinarySearch.java\n",
        "public class BinarySearch {\n",
        "  public static int binarySearch(int[] a, int key) {\n",
        "    int low = 0;\n",
        "    int high = a.length - 1;\n",
        "\n",
        "    while (low <= high) {\n",
        "      int mid = (low + high) / 2;\n",
        "      // int mid = low + ((high - low) / 2);\n",
        "      int midVal = a[mid];\n",
        "\n",
        "      if (midVal < key)\n",
        "        low = mid + 1;\n",
        "      else if (midVal > key)\n",
        "        high = mid - 1;\n",
        "      else\n",
        "        return mid; // key found\n",
        "    }\n",
        "    return -(low + 1);  // key not found.\n",
        "  }\n",
        "\n",
        "  public static void main(String[] args) {\n",
        "    int N = Integer.MAX_VALUE - 2;\n",
        "    //N = 100;\n",
        "    int[] array = new int[N];\n",
        "    for (int i = 0; i < N; i++) {\n",
        "      array[i] = i;\n",
        "    }\n",
        "\n",
        "    int key = N;\n",
        "    int result = binarySearch(array, key);\n",
        "\n",
        "    if (result >= 0)\n",
        "      System.out.println(\"Element found at index \" + result);\n",
        "    else\n",
        "      System.out.println(\"Element not found\");\n",
        "  }\n",
        "}"
      ],
      "id": "1G4LuLjGo-Ye"
    },
    {
      "cell_type": "markdown",
      "source": [
        "利用可能メモリを10Gにして実行する。"
      ],
      "metadata": {
        "id": "lhlJhMK3o-Ye"
      },
      "id": "lhlJhMK3o-Ye"
    },
    {
      "cell_type": "code",
      "execution_count": null,
      "metadata": {
        "id": "7Ek-fZfqo-Ye"
      },
      "outputs": [],
      "source": [
        "!javac BinarySearch.java\n",
        "!java -Xmx10g BinarySearch"
      ],
      "id": "7Ek-fZfqo-Ye"
    },
    {
      "cell_type": "markdown",
      "source": [
        "## 5.4 ハッシュ"
      ],
      "metadata": {
        "id": "NPAy2w8-o-Ye"
      },
      "id": "NPAy2w8-o-Ye"
    },
    {
      "cell_type": "markdown",
      "source": [
        "\n",
        "アルゴリズム図鑑（チェイン法）\n",
        "\n",
        "問題：[ALDS1_4_C](https://onlinejudge.u-aizu.ac.jp/courses/lesson/1/ALDS1/4/ALDS1_4_C) (Dictionary)"
      ],
      "metadata": {
        "id": "Q_yVntKfo-Ye"
      },
      "id": "Q_yVntKfo-Ye"
    },
    {
      "cell_type": "code",
      "execution_count": null,
      "metadata": {
        "id": "pmkxbbY8o-Ye"
      },
      "outputs": [],
      "source": [
        "%%writefile input.dat\n",
        "6\n",
        "insert AAA\n",
        "insert AAC\n",
        "find AAA\n",
        "find CCC\n",
        "insert CCC\n",
        "find CCC"
      ],
      "id": "pmkxbbY8o-Ye"
    },
    {
      "cell_type": "markdown",
      "source": [
        "線形探索を試す。"
      ],
      "metadata": {
        "id": "xNJUDuVzo-Yf"
      },
      "id": "xNJUDuVzo-Yf"
    },
    {
      "cell_type": "code",
      "execution_count": null,
      "metadata": {
        "id": "dIYvGapyo-Yf"
      },
      "outputs": [],
      "source": [
        "%%writefile test.py\n",
        "n = int(input())\n",
        "\n",
        "A = []\n",
        "for _ in range(n):\n",
        "  com, s = input().split()\n",
        "  if com[0] == \"i\": A.append(s)\n",
        "  else:\n",
        "    if s in A: print(\"yes\")\n",
        "    else: print(\"no\")"
      ],
      "id": "dIYvGapyo-Yf"
    },
    {
      "cell_type": "code",
      "execution_count": null,
      "metadata": {
        "id": "u3Hj1RKho-Yf"
      },
      "outputs": [],
      "source": [
        "!python3 test.py < input.dat"
      ],
      "id": "u3Hj1RKho-Yf"
    },
    {
      "cell_type": "markdown",
      "source": [
        "提出してみる。TLEになるはず。"
      ],
      "metadata": {
        "id": "9Oh_2yMSo-Yf"
      },
      "id": "9Oh_2yMSo-Yf"
    },
    {
      "cell_type": "markdown",
      "source": [
        "### ライブラリを使う場合"
      ],
      "metadata": {
        "id": "ISz8FHYyo-Yf"
      },
      "id": "ISz8FHYyo-Yf"
    },
    {
      "cell_type": "markdown",
      "source": [
        "\n",
        "データを集合で管理する。集合への追加はメソッド`add`，検索は演算子`in`を使う。"
      ],
      "metadata": {
        "id": "nDXxTeR6o-Yf"
      },
      "id": "nDXxTeR6o-Yf"
    },
    {
      "cell_type": "code",
      "execution_count": null,
      "metadata": {
        "id": "srN3wuzMo-Yf"
      },
      "outputs": [],
      "source": [
        "%%writefile test.py\n",
        "A = set()\n",
        "\n",
        "n = int(input())\n",
        "\n",
        "for _ in range(n):\n",
        "  com, s = input().split()\n",
        "  if com[0] == \"i\": A.add(s)\n",
        "  else:\n",
        "    if s in A: print(\"yes\")\n",
        "    else: print(\"no\")"
      ],
      "id": "srN3wuzMo-Yf"
    },
    {
      "cell_type": "code",
      "execution_count": null,
      "metadata": {
        "id": "VMrnugwbo-Yg"
      },
      "outputs": [],
      "source": [
        "!python3 test.py < input.dat"
      ],
      "id": "VMrnugwbo-Yg"
    },
    {
      "cell_type": "markdown",
      "source": [
        "問題がなければ提出する。"
      ],
      "metadata": {
        "id": "lTkJwQAEo-Yg"
      },
      "id": "lTkJwQAEo-Yg"
    },
    {
      "cell_type": "markdown",
      "source": [
        "### ライブラリを使わない場合"
      ],
      "metadata": {
        "id": "meA-hHO-o-Yg"
      },
      "id": "meA-hHO-o-Yg"
    },
    {
      "cell_type": "markdown",
      "source": [
        "\n",
        "文字列を数値に変換する方法を用意する。例として，文字列`\"ACGT\"`→文字列`\"1234\"`→整数1234なら，次のようになる。"
      ],
      "metadata": {
        "id": "8v0CRy5go-Yg"
      },
      "id": "8v0CRy5go-Yg"
    },
    {
      "cell_type": "code",
      "execution_count": null,
      "metadata": {
        "id": "LGg69RtEo-Yg"
      },
      "outputs": [],
      "source": [
        "mapping = {'A': '1', 'C': '2', 'G': '3', 'T': '4'}\n",
        "\n",
        "key = \"ATCG\"\n",
        "int(''.join(mapping[c] for c in key))"
      ],
      "id": "LGg69RtEo-Yg"
    },
    {
      "cell_type": "markdown",
      "source": [
        "10000個の領域で管理するなら（♠素数がよいが，ここでは話を簡単にするために10000とする）"
      ],
      "metadata": {
        "id": "k8YghPk1o-Yg"
      },
      "id": "k8YghPk1o-Yg"
    },
    {
      "cell_type": "code",
      "execution_count": null,
      "metadata": {
        "id": "2Wnd4zTQo-Yg"
      },
      "outputs": [],
      "source": [
        "n = 10000\n",
        "key = \"ATCG\"\n",
        "int(''.join(mapping[c] for c in key)) % n"
      ],
      "id": "2Wnd4zTQo-Yg"
    },
    {
      "cell_type": "markdown",
      "source": [
        "異なる文字列が同じ数値に変換される，**衝突**の問題がある。"
      ],
      "metadata": {
        "id": "tkLuVKsPo-Yg"
      },
      "id": "tkLuVKsPo-Yg"
    },
    {
      "cell_type": "code",
      "execution_count": null,
      "metadata": {
        "id": "cgSyIOXWo-Yg"
      },
      "outputs": [],
      "source": [
        "key = \"GATCG\"\n",
        "int(''.join(mapping[c] for c in key)) % n"
      ],
      "id": "cgSyIOXWo-Yg"
    },
    {
      "cell_type": "markdown",
      "source": [
        "衝突に対応する方法：\n",
        "\n",
        "-   **チェイン法**：衝突したデータを連結リストで管理する。\n",
        "-   **オープンアドレス法**：衝突したデータを別の場所に保存する。\n",
        "    -   線形探索法：衝突したデータを次の空いている場所に保存する。\n",
        "    -   二次探索法：衝突したデータを次の空いている場所に保存する。探索の間隔を2, 4, 6, …と増やしていく。\n",
        "    -   ダブルハッシュ法：衝突したデータを次の空いている場所に保存する。探索の間隔を別のハッシュ関数で決める。（教科書の方法）\n",
        "\n",
        "教科書のダブルハッシュ法ではなく，実装が単純なチェイン法を試す。\n",
        "\n",
        "ライブラリを使う場合のコードの変更が最小限になるようにする。\n",
        "\n",
        "> ACGTの4文字からなる文字列の集合をハッシュで管理するPythonのクラスTableを作る。チェイン法を使う。扱うデータは最大1000000件。集合への入力はメソッドadd，集合の検索は演算子inで行う。他のメソッドは不要。\n",
        "\n",
        "生成されるコードを修正した例を示す。"
      ],
      "metadata": {
        "id": "FhMWiorMo-Yg"
      },
      "id": "FhMWiorMo-Yg"
    },
    {
      "cell_type": "code",
      "execution_count": null,
      "metadata": {
        "id": "6LFlyveUo-Yh"
      },
      "outputs": [],
      "source": [
        "%%writefile Table.py\n",
        "class Table:\n",
        "  def __init__(self, size=1048576):\n",
        "    self.size = size\n",
        "    self.table = [[] for _ in range(self.size)]\n",
        "\n",
        "  def _hash(self, key):\n",
        "    mapping = {'A': '1', 'C': '2', 'G': '3', 'T': '4'}\n",
        "    return int(''.join(mapping[c] for c in key)) % self.size\n",
        "\n",
        "  def add(self, key):\n",
        "    h = self._hash(key)\n",
        "    if key not in self.table[h]:\n",
        "      self.table[h].append(key)\n",
        "\n",
        "  def __contains__(self, key):\n",
        "    h = self._hash(key)\n",
        "    return key in self.table[h]"
      ],
      "id": "6LFlyveUo-Yh"
    },
    {
      "cell_type": "markdown",
      "source": [
        "`Table`の定義を追加して，`A = set()`を`A = Table()`に変えれば動くはず。"
      ],
      "metadata": {
        "id": "0fC7uAGDo-Yh"
      },
      "id": "0fC7uAGDo-Yh"
    },
    {
      "cell_type": "code",
      "execution_count": null,
      "metadata": {
        "id": "S0TXx3m9o-Yh"
      },
      "outputs": [],
      "source": [
        "%%writefile test.py\n",
        "# Tableの定義\n",
        "\n",
        "A = Table()\n",
        "\n",
        "n = int(input())\n",
        "\n",
        "for _ in range(n):\n",
        "  com, s = input().split()\n",
        "  if com[0] == \"i\": A.add(s)\n",
        "  else:\n",
        "    if s in A: print(\"yes\")\n",
        "    else: print(\"no\")"
      ],
      "id": "S0TXx3m9o-Yh"
    },
    {
      "cell_type": "code",
      "execution_count": null,
      "metadata": {
        "id": "qx45Ir1Io-Yh"
      },
      "outputs": [],
      "source": [
        "!python3 test.py < input.dat"
      ],
      "id": "qx45Ir1Io-Yh"
    },
    {
      "cell_type": "markdown",
      "source": [
        "問題がなければ提出する。\n",
        "\n",
        "♠オープンアドレス法（線形探索法，二次探索法，ダブルハッシュ法）を試す。ダブルハッシュ法ならACになるだろう。"
      ],
      "metadata": {
        "id": "NRFXFu2mo-Yh"
      },
      "id": "NRFXFu2mo-Yh"
    },
    {
      "cell_type": "markdown",
      "source": [
        "## ♠グローバーのアルゴリズム"
      ],
      "metadata": {
        "id": "vXMsrH7qo-Yh"
      },
      "id": "vXMsrH7qo-Yh"
    },
    {
      "cell_type": "markdown",
      "source": [
        "\n",
        "暗記：線形探索は $O(n)$，ソート済みの対象での二分探索は $O(\\log n)$ である。\n",
        "\n",
        "**グローバーのアルゴリズム**：ソート済みでないにもかかわらず，$O(\\sqrt n)$で探索できる**量子アルゴリズム**\n",
        "\n",
        "> 0以上15以下の整数から，一つの整数を，グローバーのアルゴリズムで探索する。次の例において，探索のステップごとに確率がどのように変化するかを棒グラフで表示するPythonのコード。例1：{2, 3, 5, 7, 11, 13}から11を探索する。例2：{2, 3, 5, 7, 11, 13}から10を探索する。データの種類は0から15の16個を想定して"
      ],
      "metadata": {
        "id": "cGUpL4q3o-Yh"
      },
      "id": "cGUpL4q3o-Yh"
    },
    {
      "cell_type": "markdown",
      "source": [
        "## 宿題"
      ],
      "metadata": {
        "id": "nKv3haSOo-Yi"
      },
      "id": "nKv3haSOo-Yi"
    },
    {
      "cell_type": "markdown",
      "source": [
        "\n",
        "-   [AD02](https://atcoder.jp/contests/tessoku-book/tasks/tessoku_book_b) (Linear Search)\n",
        "-   [ALDS1_4_A](https://onlinejudge.u-aizu.ac.jp/courses/lesson/1/ALDS1/4/ALDS1_4_A) (Linear Search)\n",
        "-   [A11](https://atcoder.jp/contests/tessoku-book/tasks/tessoku_book_k) (Binary Search 1)\n",
        "-   [B11](https://atcoder.jp/contests/tessoku-book/tasks/tessoku_book_cj) (Binary Search 2)\n",
        "-   [ALDS1_4_B](https://onlinejudge.u-aizu.ac.jp/courses/lesson/1/ALDS1/4/ALDS1_4_B) (Binary Search)\n",
        "-   [ALDS1_4_C](https://onlinejudge.u-aizu.ac.jp/courses/lesson/1/ALDS1/4/ALDS1_4_C) (Dictionary)\n",
        "-   ♠[ALDS1_4_D](https://onlinejudge.u-aizu.ac.jp/courses/lesson/1/ALDS1/4/ALDS1_4_D) (Allocation)"
      ],
      "metadata": {
        "id": "HKajzLM8o-Yi"
      },
      "id": "HKajzLM8o-Yi"
    }
  ],
  "nbformat": 4,
  "nbformat_minor": 5,
  "metadata": {
    "colab": {
      "provenance": []
    },
    "language_info": {
      "name": "python"
    },
    "kernelspec": {
      "name": "python3",
      "display_name": "Python 3"
    }
  }
}