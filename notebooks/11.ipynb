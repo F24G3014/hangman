{
  "cells": [
    {
      "cell_type": "markdown",
      "source": [
        "# 動的計画法"
      ],
      "metadata": {
        "id": "0bb8BaYP3RjR"
      },
      "id": "0bb8BaYP3RjR"
    },
    {
      "cell_type": "markdown",
      "source": [],
      "metadata": {
        "id": "5hEwazmb3RjS"
      },
      "id": "5hEwazmb3RjS"
    },
    {
      "cell_type": "markdown",
      "source": [
        "## 動的計画法とは：問題にチャレンジする前に"
      ],
      "metadata": {
        "id": "EBHmka6Q3RjT"
      },
      "id": "EBHmka6Q3RjT"
    },
    {
      "cell_type": "markdown",
      "source": [
        "\n",
        "問題：[ALDS1_5_A](https://onlinejudge.u-aizu.ac.jp/courses/lesson/1/ALDS1/5/ALDS1_5_A) (Exhaustive Search)"
      ],
      "metadata": {
        "id": "9wV4Nvyr3RjT"
      },
      "id": "9wV4Nvyr3RjT"
    },
    {
      "cell_type": "code",
      "execution_count": null,
      "metadata": {
        "id": "fDqSLVPI3RjU"
      },
      "outputs": [],
      "source": [
        "%%writefile input.dat\n",
        "5\n",
        "1 5 7 10 21\n",
        "4\n",
        "2 4 17 8"
      ],
      "id": "fDqSLVPI3RjU"
    },
    {
      "cell_type": "markdown",
      "source": [
        "### 以前の方法"
      ],
      "metadata": {
        "id": "Ncfv0Xil3RjV"
      },
      "id": "Ncfv0Xil3RjV"
    },
    {
      "cell_type": "code",
      "execution_count": null,
      "metadata": {
        "id": "OmPuyHsJ3RjV"
      },
      "outputs": [],
      "source": [
        "%%writefile test.py\n",
        "def solve(i, m):\n",
        "  if m == 0: return True\n",
        "  if i >= n: return False\n",
        "  tmp = solve(i + 1, m) or solve(i + 1, m - A[i])\n",
        "  return tmp\n",
        "\n",
        "n = int(input())\n",
        "A = list(map(int, input().split()))\n",
        "q = int(input())\n",
        "m = list(map(int, input().split()))\n",
        "\n",
        "for x in m: print('yes' if solve(0, x) else 'no')"
      ],
      "id": "OmPuyHsJ3RjV"
    },
    {
      "cell_type": "code",
      "execution_count": null,
      "metadata": {
        "id": "_OxI5UH53RjW"
      },
      "outputs": [],
      "source": [
        "!python3 test.py < input.dat"
      ],
      "id": "_OxI5UH53RjW"
    },
    {
      "cell_type": "markdown",
      "source": [
        "### メモ化"
      ],
      "metadata": {
        "id": "pz46J_fH3RjW"
      },
      "id": "pz46J_fH3RjW"
    },
    {
      "cell_type": "markdown",
      "source": [
        "\n",
        "同じ計算を何度もする無駄を省くために，solveの結果を記憶することにする（**メモ化**，memoization）。"
      ],
      "metadata": {
        "id": "S9Qbpvlx3RjX"
      },
      "id": "S9Qbpvlx3RjX"
    },
    {
      "cell_type": "markdown",
      "source": [
        "#### ライブラリを使う"
      ],
      "metadata": {
        "id": "HL_pGIb-3RjX"
      },
      "id": "HL_pGIb-3RjX"
    },
    {
      "cell_type": "markdown",
      "source": [
        "\n",
        "定義の前に次のコードを追加すると，その関数がメモ化される。"
      ],
      "metadata": {
        "id": "VAvYp1bz3RjX"
      },
      "id": "VAvYp1bz3RjX"
    },
    {
      "cell_type": "code",
      "execution_count": 3,
      "metadata": {
        "id": "ayzOc8fM3RjX",
        "outputId": "435fe5ba-ed2b-4d0f-e47b-ce75e5fa8f6a",
        "colab": {
          "base_uri": "https://localhost:8080/"
        }
      },
      "outputs": [
        {
          "output_type": "stream",
          "name": "stdout",
          "text": [
            "Overwriting test.py\n"
          ]
        }
      ],
      "source": [
        "%%writefile test.py\n",
        "from functools import cache\n",
        "\n",
        "@cache\n",
        "\n",
        "def solve(i, m):\n",
        "  if m == 0: return True\n",
        "  if i >= n: return False\n",
        "  tmp = solve(i + 1, m) or solve(i + 1, m - A[i])\n",
        "  return tmp\n",
        "\n",
        "n = int(input())\n",
        "A = list(map(int, input().split()))\n",
        "q = int(input())\n",
        "m = list(map(int, input().split()))\n",
        "\n",
        "for x in m: print('yes' if solve(0, x) else 'no')"
      ],
      "id": "ayzOc8fM3RjX"
    },
    {
      "cell_type": "code",
      "execution_count": 2,
      "metadata": {
        "id": "HtIELP1z3RjY",
        "outputId": "7d986f76-3582-493b-8e0c-f3ebb3f9495f",
        "colab": {
          "base_uri": "https://localhost:8080/"
        }
      },
      "outputs": [
        {
          "output_type": "stream",
          "name": "stdout",
          "text": [
            "/bin/bash: line 1: input.dat: No such file or directory\n"
          ]
        }
      ],
      "source": [
        "!python3 test.py < input.dat"
      ],
      "id": "HtIELP1z3RjY"
    },
    {
      "cell_type": "markdown",
      "source": [
        "#### 自分で実装する"
      ],
      "metadata": {
        "id": "gXEzUx_B3RjY"
      },
      "id": "gXEzUx_B3RjY"
    },
    {
      "cell_type": "code",
      "execution_count": 4,
      "metadata": {
        "id": "tiTuR8I23RjY",
        "outputId": "d1920513-a433-42e6-fad6-d8f8db90af5e",
        "colab": {
          "base_uri": "https://localhost:8080/"
        }
      },
      "outputs": [
        {
          "output_type": "stream",
          "name": "stdout",
          "text": [
            "Overwriting test.py\n"
          ]
        }
      ],
      "source": [
        "%%writefile test.py\n",
        "dp = {} # 変更点1：結果を記録するための辞書\n",
        "\n",
        "def solve(i, m):\n",
        "  # 変更点2：辞書に入っているならそれを返す。\n",
        "  if (i, m)in dp: return dp[(i, m)]\n",
        "  if m == 0: return True\n",
        "  if i >= n: return False\n",
        "  tmp = solve(i + 1, m) or solve(i + 1, m - A[i])\n",
        "  # 変更点3：辞書に入れる。\n",
        "  dp[(i, m)] = tmp\n",
        "  return tmp\n",
        "\n",
        "n = int(input())\n",
        "A = list(map(int, input().split()))\n",
        "q = int(input())\n",
        "m = list(map(int, input().split()))\n",
        "\n",
        "for x in m: print('yes' if solve(0, x) else 'no')"
      ],
      "id": "tiTuR8I23RjY"
    },
    {
      "cell_type": "code",
      "execution_count": null,
      "metadata": {
        "id": "HQej77_S3RjY"
      },
      "outputs": [],
      "source": [
        "!python3 test.py < input.dat"
      ],
      "id": "HQej77_S3RjY"
    },
    {
      "cell_type": "markdown",
      "source": [
        "## フィボナッチ数列"
      ],
      "metadata": {
        "id": "cM39be6J3RjY"
      },
      "id": "cM39be6J3RjY"
    },
    {
      "cell_type": "markdown",
      "source": [
        "\n",
        "問題：[ALDS1_10_A](https://onlinejudge.u-aizu.ac.jp/courses/lesson/1/ALDS1/10/ALDS1_10_A) (Fibonacci Numbers)\n",
        "\n",
        "<img src=\"https://ndlsearch.ndl.go.jp/thumbnail/9784794964540.jpg\" width=\"150\"/> エンツェンスベルガー『数の悪魔』（晶文社, 2000）\n",
        "\n",
        "フィボナッチ数列の定義には二つの流儀がある。\n",
        "\n",
        "-   定義1: $f_n = f_{n-1} + f_{n-2},\\quad f_0 = 1,\\quad f_1 = 1.$\n",
        "-   定義2: $F_n = F_{n-1} + F_{n-2},\\quad F_0 = 0,\\quad F_1 = 1.$\n",
        "\n",
        "教科書で採用しているのは定義1だが，定義2の方が良い。$f_n=F_{n+1}$ で相互に変換できるから，どちらでもよいと思うかもしれないが，フィボナッチ数列に関する有名な定理で，定義2でしか成り立たないものがある。例えば，$\\mathrm{gcd}(F_m, F_n)=F_{\\mathrm{gcd}(m, n)}$ は，定義2でしか成り立たない（$m=3, n=6$ として試してみよ）。\n",
        "\n",
        "そこでこの資料では，定義2の$F_n$ を求める方法を実装して，$f_n=F_{n+1}$ から $f_n$ を求めることにする。\n",
        "\n",
        "フィボナッチ数列に関する話題。★はAizu Online Judgeで使えるもの（NumPyやSymPyを使うコードは使えない）。\n",
        "\n",
        "-   再帰\n",
        "    -   単純な実装★\n",
        "    -   メモ化\n",
        "        -   ライブラリ★\n",
        "        -   自分で書く★\n",
        "-   ループ★\n",
        "-   ♠漸化式を解く\n",
        "    -   数式処理\n",
        "    -   紙とペン（**高校数学**）★\n",
        "-   ♠行列の累乗\n",
        "    -   NumPy\n",
        "    -   対角化（**線形代数**）\n",
        "        -   数式処理\n",
        "        -   紙とペン★\n",
        "-   ♠母関数（**微分積分**）\n",
        "    -   テイラー近似式\n",
        "    -   整数計算★\n",
        "-   ♠アート\n",
        "\n",
        "$f_{10}=F_{11}=89$ を確認しながら進める。"
      ],
      "metadata": {
        "id": "Y3yB7YUi3RjZ"
      },
      "id": "Y3yB7YUi3RjZ"
    },
    {
      "cell_type": "markdown",
      "source": [
        "### 再帰"
      ],
      "metadata": {
        "id": "qveISa-U3RjZ"
      },
      "id": "qveISa-U3RjZ"
    },
    {
      "cell_type": "markdown",
      "source": [],
      "metadata": {
        "id": "xgkNGDdv3RjZ"
      },
      "id": "xgkNGDdv3RjZ"
    },
    {
      "cell_type": "markdown",
      "source": [
        "#### 単純な実装★"
      ],
      "metadata": {
        "id": "qzALEd0I3RjZ"
      },
      "id": "qzALEd0I3RjZ"
    },
    {
      "cell_type": "code",
      "execution_count": null,
      "metadata": {
        "id": "wVD3gNtd3RjZ"
      },
      "outputs": [],
      "source": [
        "%%writefile test.py\n",
        "def fibonacci(n):\n",
        "  # n <= 1 なら n を返す。\n",
        "  # 再帰的に計算した結果を返す。\n",
        "\n",
        "n = int(input())\n",
        "print(fibonacci(n + 1)) # f(n) = F(n + 1)"
      ],
      "id": "wVD3gNtd3RjZ"
    },
    {
      "cell_type": "code",
      "execution_count": null,
      "metadata": {
        "id": "hmkE8gVQ3RjZ"
      },
      "outputs": [],
      "source": [
        "!echo 10 | python3 test.py"
      ],
      "id": "hmkE8gVQ3RjZ"
    },
    {
      "cell_type": "markdown",
      "source": [
        "うまく行ったら提出してみる。"
      ],
      "metadata": {
        "id": "L_Fd0Vb53Rja"
      },
      "id": "L_Fd0Vb53Rja"
    },
    {
      "cell_type": "markdown",
      "source": [
        "#### メモ化"
      ],
      "metadata": {
        "id": "GTN41IIL3Rja"
      },
      "id": "GTN41IIL3Rja"
    },
    {
      "cell_type": "markdown",
      "source": [],
      "metadata": {
        "id": "MmUI_tiI3Rja"
      },
      "id": "MmUI_tiI3Rja"
    },
    {
      "cell_type": "markdown",
      "source": [
        "##### ライブラリ★"
      ],
      "metadata": {
        "id": "a4ohn7hV3Rja"
      },
      "id": "a4ohn7hV3Rja"
    },
    {
      "cell_type": "code",
      "execution_count": null,
      "metadata": {
        "id": "5jsS8DQT3Rja"
      },
      "outputs": [],
      "source": [
        "%%writefile test.py\n",
        "from functools import cache\n",
        "\n",
        "@cache\n",
        "def fibonacci(n):\n",
        "  if n <= 1: return fibonacci(n - 1) + fibonacci"
      ],
      "id": "5jsS8DQT3Rja"
    },
    {
      "cell_type": "code",
      "execution_count": null,
      "metadata": {
        "id": "oxyeFvOZ3Rja"
      },
      "outputs": [],
      "source": [
        "!echo 10 | python3 test.py"
      ],
      "id": "oxyeFvOZ3Rja"
    },
    {
      "cell_type": "markdown",
      "source": [
        "うまく行ったら提出してみる。"
      ],
      "metadata": {
        "id": "VY-Mf57f3Rja"
      },
      "id": "VY-Mf57f3Rja"
    },
    {
      "cell_type": "markdown",
      "source": [
        "##### 自分で書く★"
      ],
      "metadata": {
        "id": "Q_a_Xvd23Rja"
      },
      "id": "Q_a_Xvd23Rja"
    },
    {
      "cell_type": "markdown",
      "source": [
        "\n",
        "一度計算した結果を辞書に記録する。（フィボナッチ数列の場合は，番号が0, 1, 2, … のように等間隔だから，リストを使ってもよい。）"
      ],
      "metadata": {
        "id": "QQBxu2SQ3Rjb"
      },
      "id": "QQBxu2SQ3Rjb"
    },
    {
      "cell_type": "code",
      "execution_count": 5,
      "metadata": {
        "id": "4Q5ayvQu3Rjb",
        "outputId": "223eb98d-c35d-42ff-9b4b-dfc44b6f09a4",
        "colab": {
          "base_uri": "https://localhost:8080/"
        }
      },
      "outputs": [
        {
          "output_type": "stream",
          "name": "stdout",
          "text": [
            "Overwriting test.py\n"
          ]
        }
      ],
      "source": [
        "%%writefile test.py\n",
        "F = {} # 結果を記録するための辞書\n",
        "\n",
        "def fibonacci(n):\n",
        "  if n in F: return F[n] # 辞書にあるならそれを返す。\n",
        "  if n <= 1: return n # 辞書に無いなら\n",
        "  tmp = fibonacci(n - 2) + fibonacci(n - 1) # 計算して\n",
        "  F[n] = tmp # 辞書に入れて\n",
        "  return tmp # 返す。\n",
        "\n",
        "n = int(input())\n",
        "print(fibonacci(n + 1))"
      ],
      "id": "4Q5ayvQu3Rjb"
    },
    {
      "cell_type": "code",
      "execution_count": null,
      "metadata": {
        "id": "xqzjCVrW3Rjb"
      },
      "outputs": [],
      "source": [
        "!echo 10 | python3 test.py"
      ],
      "id": "xqzjCVrW3Rjb"
    },
    {
      "cell_type": "markdown",
      "source": [
        "### ループ"
      ],
      "metadata": {
        "id": "aZObqhcH3Rjb"
      },
      "id": "aZObqhcH3Rjb"
    },
    {
      "cell_type": "code",
      "execution_count": null,
      "metadata": {
        "id": "Slrf4jN03Rjb"
      },
      "outputs": [],
      "source": [
        "%%writefile test.py\n",
        "def fibonacci(n):\n",
        "  a, b = 0, 1\n",
        "  for i in range(n - 1): a, b = b, a + b # 必要な分だけ更新を繰り返す。\n",
        "  return b\n",
        "\n",
        "n = int(input())\n",
        "print(fibonacci(n + 1))"
      ],
      "id": "Slrf4jN03Rjb"
    },
    {
      "cell_type": "code",
      "execution_count": 6,
      "metadata": {
        "id": "FfiUa-Mi3Rjb",
        "outputId": "b6cacff5-90b7-471f-d62d-02287cd28092",
        "colab": {
          "base_uri": "https://localhost:8080/"
        }
      },
      "outputs": [
        {
          "output_type": "stream",
          "name": "stdout",
          "text": [
            "89\n"
          ]
        }
      ],
      "source": [
        "!echo 10 | python3 test.py"
      ],
      "id": "FfiUa-Mi3Rjb"
    },
    {
      "cell_type": "markdown",
      "source": [
        "### ♠漸化式を解く"
      ],
      "metadata": {
        "id": "PFonQX0K3Rjb"
      },
      "id": "PFonQX0K3Rjb"
    },
    {
      "cell_type": "markdown",
      "source": [
        "\n",
        "次の三項間漸化式を解く。\n",
        "$$F_n = F_{n-1} + F_{n-2},\\quad F_0 = 0,\\quad F_1 = 1.$$"
      ],
      "metadata": {
        "id": "0Ji6grIL3Rjo"
      },
      "id": "0Ji6grIL3Rjo"
    },
    {
      "cell_type": "markdown",
      "source": [
        "#### 数式処理"
      ],
      "metadata": {
        "id": "4gssb_EC3Rjo"
      },
      "id": "4gssb_EC3Rjo"
    },
    {
      "cell_type": "markdown",
      "source": [
        "\n",
        "数式処理で正確に解く（[WolframAlpha](https://www.wolframalpha.com/input?i=F%28n%29%3DF%28n-1%29%2BF%28n-2%29%2CF%280%29%3D0%2CF%281%29%3D1&lang=ja)）。\n",
        "\n",
        "Python（SymPy）なら，`rsolve`に`左辺 = 0`あるいは`Eq(左辺, 右辺)`の形式で漸化式を与える。"
      ],
      "metadata": {
        "id": "iPOysg_V3Rjp"
      },
      "id": "iPOysg_V3Rjp"
    },
    {
      "cell_type": "code",
      "execution_count": null,
      "metadata": {
        "id": "CigFNuCT3Rjp"
      },
      "outputs": [],
      "source": [
        "from sympy import *\n",
        "\n",
        "F = Function('F')\n",
        "var('n')\n",
        "result = rsolve(F(n) - F(n-1) - F(n-2), F(n), {F(0): 0, F(1): 1})\n",
        "#result = rsolve(Eq(F(n), F(n-1) + F(n-2)), F(n), {F(0): 0, F(1): 1})"
      ],
      "id": "CigFNuCT3Rjp"
    },
    {
      "cell_type": "markdown",
      "source": [
        "`n`に $0$ から $11$ までの数を代入して，正しいことを確かめる。"
      ],
      "metadata": {
        "id": "Ek1DLI6n3Rjp"
      },
      "id": "Ek1DLI6n3Rjp"
    },
    {
      "cell_type": "code",
      "execution_count": null,
      "metadata": {
        "id": "gdRdev0c3Rjp"
      },
      "outputs": [],
      "source": [
        "[simplify(result.subs(n, i)) for i in range(12)]"
      ],
      "id": "gdRdev0c3Rjp"
    },
    {
      "cell_type": "markdown",
      "source": [
        "#### 紙とペン（**高校数学**）"
      ],
      "metadata": {
        "id": "3bxzqQiD3Rjp"
      },
      "id": "3bxzqQiD3Rjp"
    },
    {
      "cell_type": "markdown",
      "source": [
        "\n",
        "漸化式の特性方程式は\n",
        "$$x^2-x-1=0$$\n",
        "で，解は $\\dfrac{1\\pm\\sqrt{5}}{2}$ である。特性方程式が異なる解 $\\alpha, \\beta$ をもつとき，漸化式の一般項は $A, B$ を定数として，\n",
        "$$F_n=A\\alpha^n+B\\beta^n$$\n",
        "と書ける（**高校数学の参考書等を参照**）。特性方程式の解を $\\alpha:=\\dfrac{1+\\sqrt{5}}{2}$，$\\beta:=\\dfrac{1-\\sqrt{5}}{2}$ として，$F_0=0, F_1=1$ となるように $A, B$ を定めると，\n",
        "$$F_n=\\dfrac{1}{\\sqrt 5}(\\alpha^n-\\beta^n)$$\n",
        "となる（連立方程式 $A+B=0, A\\alpha+B\\beta=1$ の解は $A=1/\\sqrt{5}, B=-1/\\sqrt{5}$）。\n",
        "\n",
        "この結果を使って正確に計算する。"
      ],
      "metadata": {
        "id": "FXILZXVm3Rjp"
      },
      "id": "FXILZXVm3Rjp"
    },
    {
      "cell_type": "code",
      "execution_count": null,
      "metadata": {
        "id": "68Lw5xga3Rjq"
      },
      "outputs": [],
      "source": [
        "from sympy import *\n",
        "\n",
        "def fibonacci(n):\n",
        "  alpha = (1 + sqrt(5)) / 2\n",
        "  beta  = (1 - sqrt(5)) / 2\n",
        "  return simplify((alpha**n - beta**n) / sqrt(5))\n",
        "\n",
        "print(fibonacci(10 + 1))"
      ],
      "id": "68Lw5xga3Rjq"
    },
    {
      "cell_type": "markdown",
      "source": [
        "問題の制約は $n\\le 44$ で，このくらいなら数値計算（近似計算）でも正しい結果が得られる。♠問われているのが $f_{44}=F_{45}$ までなのは，32ビット整数の最大値 $2^{31}-1=2147483647$ を意識してのことだろう。$F_{47}=2971215073$（$=f_{46}$） が32ビット整数の範囲を超える。これを超えてもPythonなら問題なく計算できるが，C言語やC++では注意が必要になる。\n",
        "\n",
        "次のコードなら，Aizu Online Judgeで提出できる。"
      ],
      "metadata": {
        "id": "lq405QoH3Rjq"
      },
      "id": "lq405QoH3Rjq"
    },
    {
      "cell_type": "code",
      "execution_count": null,
      "metadata": {
        "id": "YJ8WC8dg3Rjq"
      },
      "outputs": [],
      "source": [
        "%%writefile test.py\n",
        "def fibonacci(n):\n",
        "  alpha = (1 + 5**0.5) / 2\n",
        "  beta  = (1 - 5**0.5) / 2\n",
        "  return round((alpha**n - beta**n) / 5**0.5)\n",
        "\n",
        "n = int(input())\n",
        "print(fibonacci(n + 1))"
      ],
      "id": "YJ8WC8dg3Rjq"
    },
    {
      "cell_type": "code",
      "execution_count": null,
      "metadata": {
        "id": "L2aYBBB-3Rjq"
      },
      "outputs": [],
      "source": [
        "!echo 10 | python3 test.py"
      ],
      "id": "L2aYBBB-3Rjq"
    },
    {
      "cell_type": "markdown",
      "source": [
        "♠数値計算で最初にうまく行かなくなるのは $f_{70}=F_{71}=308061521170129$ である。"
      ],
      "metadata": {
        "id": "RNxj98ep3Rjq"
      },
      "id": "RNxj98ep3Rjq"
    },
    {
      "cell_type": "code",
      "execution_count": null,
      "metadata": {
        "id": "72693yuX3Rjq"
      },
      "outputs": [],
      "source": [
        "# 浮動小数点数による近似計算\n",
        "def f1(n):\n",
        "  alpha = (1 + 5**0.5) / 2\n",
        "  beta  = (1 - 5**0.5) / 2\n",
        "  return round((alpha**n - beta**n) / 5**0.5) # roundで整数にする。\n",
        "\n",
        "from sympy import sqrt, simplify\n",
        "\n",
        "# 数式処理による厳密計算\n",
        "def f2(n):\n",
        "  alpha = (1 + sqrt(5)) / 2\n",
        "  beta  = (1 - sqrt(5)) / 2\n",
        "  return simplify((alpha**n - beta**n) / sqrt(5))\n",
        "\n",
        "n = 0\n",
        "while True:\n",
        "  v1, v2 = f1(n + 1), f2(n + 1)\n",
        "  if v1 != v2:\n",
        "    print(f'{n = }')\n",
        "    print(f'近似計算：{v1}')\n",
        "    print(f'厳密計算：{v2}')\n",
        "    break\n",
        "  n += 1"
      ],
      "id": "72693yuX3Rjq"
    },
    {
      "cell_type": "markdown",
      "source": [
        "♠問題：[049 - Fibonacci Easy (mod 1000000007)](https://atcoder.jp/contests/math-and-algorithm/tasks/math_and_algorithm_ap)\n",
        "\n",
        "これまでに学んだ手法から，適切なものを選べば解ける。"
      ],
      "metadata": {
        "id": "YoZUaUKc3Rjr"
      },
      "id": "YoZUaUKc3Rjr"
    },
    {
      "cell_type": "code",
      "execution_count": null,
      "metadata": {
        "id": "W1tMlQ3m3Rjr"
      },
      "outputs": [],
      "source": [
        "%%writefile test.py\n",
        "#自分で書く"
      ],
      "id": "W1tMlQ3m3Rjr"
    },
    {
      "cell_type": "code",
      "execution_count": null,
      "metadata": {
        "id": "92GbGmS83Rjr"
      },
      "outputs": [],
      "source": [
        "!echo 8691200 | python3 test.py"
      ],
      "id": "92GbGmS83Rjr"
    },
    {
      "cell_type": "markdown",
      "source": [
        "### ♠行列の累乗"
      ],
      "metadata": {
        "id": "uDnkEubk3Rjr"
      },
      "id": "uDnkEubk3Rjr"
    },
    {
      "cell_type": "markdown",
      "source": [
        "\n",
        "フィボナッチ数列の漸化式は行列を使って\n",
        "$$\\begin{pmatrix}F_{n+1}&F_n\\\\F_{n}&F_{n-1}\\end{pmatrix}\n",
        "=\\begin{pmatrix}F_n+F_{n-1}&F_{n-1}+F_{n-2}\\\\F_n&F_{n-1}\\end{pmatrix}\n",
        "=\\begin{pmatrix}1&1\\\\1&0\\end{pmatrix}\\begin{pmatrix}F_n&F_{n-1}\\\\F_{n-1}&F_{n-2}\\end{pmatrix}\n",
        "=\\begin{pmatrix}1&1\\\\1&0\\end{pmatrix}^{n-1}\\begin{pmatrix}F_2&F_1\\\\F_1&F_0\\end{pmatrix}=\\begin{pmatrix}1&1\\\\1&0\\end{pmatrix}^n$$\n",
        "と表せる（$F_0=0, F_1=1, F_2=1$ に注意）。\n",
        "\n",
        "$A=\\begin{pmatrix}1&1\\\\1&0\\end{pmatrix}$とすると，$F_n$ は $A^n$ の $(1, 2)$ 成分が $F_n$ である。例えば，\n",
        "$$\\begin{pmatrix}F_3&F_2\\\\F_2&F_1\\end{pmatrix}\n",
        "=\\begin{pmatrix}1&1\\\\1&0\\end{pmatrix}^2\n",
        "=\\begin{pmatrix}2&1\\\\1&1\\end{pmatrix}$$\n",
        "だから，$F_2=1$ である。\n",
        "\n",
        "$F_{11}=f_{10}$ が欲しければ，$A^{11}$ の $(1, 2)$ 成分，あるいは，$A^{10}$ の $(1, 1)$ 成分を求めればよい。$A^{10}$ を直接計算するのは大変だから，[WolframAlphaを使う](https://www.wolframalpha.com/input?i=%7B%7B1%2C1%7D%2C%7B1%2C0%7D%7D%5E10&lang=ja)。\n",
        "\n",
        "Python（NumPy）では，行列の累乗は`np.linalg.matrix_power(A, n)`で計算する。`A**n`ではないことに注意。$(1, 2)$ 成分には`[0, 1]`でアクセスする。"
      ],
      "metadata": {
        "id": "hPFYdTl33Rjr"
      },
      "id": "hPFYdTl33Rjr"
    },
    {
      "cell_type": "code",
      "execution_count": null,
      "metadata": {
        "id": "hpLlihGO3Rjr"
      },
      "outputs": [],
      "source": [
        "import numpy as np\n",
        "\n",
        "A = np.array([[1, 1], [1, 0]])\n",
        "n = 2\n",
        "B = np.linalg.matrix_power(A, n)\n",
        "print(B)\n",
        "print(B[0, 1]) # B=A^nの(1, 2)成分\n",
        "\n",
        "n = 10 + 1\n",
        "B = np.linalg.matrix_power(A, n)\n",
        "print(B)\n",
        "print(B[0, 1])"
      ],
      "id": "hpLlihGO3Rjr"
    },
    {
      "cell_type": "markdown",
      "source": [
        "関数にすると次のとおり。"
      ],
      "metadata": {
        "id": "gdfiR3pO3Rjs"
      },
      "id": "gdfiR3pO3Rjs"
    },
    {
      "cell_type": "code",
      "execution_count": null,
      "metadata": {
        "id": "z_3rBsvv3Rjs"
      },
      "outputs": [],
      "source": [
        "import numpy as np\n",
        "\n",
        "A = np.array([[1, 1], [1, 0]])\n",
        "\n",
        "def fibonacci(n):\n",
        "  return (np.linalg.matrix_power(A, n)[0, 1])\n",
        "\n",
        "print(fibonacci(10 + 1))"
      ],
      "id": "z_3rBsvv3Rjs"
    },
    {
      "cell_type": "markdown",
      "source": [
        "#### ♠大きな数"
      ],
      "metadata": {
        "id": "YJy0Z2Sm3Rjs"
      },
      "id": "YJy0Z2Sm3Rjs"
    },
    {
      "cell_type": "markdown",
      "source": [
        "\n",
        "♠問題：[054 - Fibonacci Hard (mod 1000000000)](https://atcoder.jp/contests/math-and-algorithm/tasks/math_and_algorithm_at)）。\n",
        "\n",
        "NumPyの整数のデフォルトは64ビットだから，それを超える計算はできない。できたとしても，$F_{876543210987654321}$ のような大きな数の計算には時間がかかるだろう。次のような方法が考えられる（AtCoderではNumPyが使えるから，行列の乗算の実装の必要はない）。\n",
        "\n",
        "> Pythonの桁数無限の整数をラップして，乗算と加算をmod 10^9で行うオブジェクトを作る。それを要素とするNumPyの行列\\[\\[1,1\\],\\[1,0\\]\\]の876543210987654321乗の(1,2)成分を求めるコード"
      ],
      "metadata": {
        "id": "JuWlU6-c3Rjs"
      },
      "id": "JuWlU6-c3Rjs"
    },
    {
      "cell_type": "markdown",
      "source": [
        "#### 対角化（**線形代数**）"
      ],
      "metadata": {
        "id": "ylNybCam3Rjt"
      },
      "id": "ylNybCam3Rjt"
    },
    {
      "cell_type": "markdown",
      "source": [
        "\n",
        "行列の累乗は，対角化を使って計算する。\n",
        "\n",
        "$P=\\begin{pmatrix}\\beta&\\alpha\\\\1&1\\end{pmatrix}$, $D=\\begin{pmatrix}\\beta&0\\\\0&\\alpha\\end{pmatrix}$とすると，$P^{-1}=\\dfrac{1}{\\sqrt 5}\\begin{pmatrix}-1&\\alpha\\\\1&-\\beta\\end{pmatrix}$ で，$A$ は\n",
        "$$P^{-1}AP=D$$\n",
        "と対角化される。\n",
        "\n",
        "$A=PDP^{-1}$ だから，\n",
        "$$A^n=(PDP^{-1})^n=(PDP^{-1})\\cdots(PDP^{-1})=PD^nP^{-1}=\\dfrac{1}{\\sqrt 5}\\begin{pmatrix}\\alpha^{n+1}-\\beta^{n+1}&\\alpha^n-\\beta^n\\\\\\alpha^n-\\beta^n&\\alpha^{n-1}-\\beta^{n-1}\\end{pmatrix}$$\n",
        "となる。この $(1, 2)$ 成分が $F_n$ だから，\n",
        "$$F_n=\\dfrac{1}{\\sqrt 5}(\\alpha^{n}-\\beta^{n}).$$"
      ],
      "metadata": {
        "id": "XJe8fhv73Rjt"
      },
      "id": "XJe8fhv73Rjt"
    },
    {
      "cell_type": "markdown",
      "source": [
        "##### 数式処理"
      ],
      "metadata": {
        "id": "Fl0Lr7up3Rjt"
      },
      "id": "Fl0Lr7up3Rjt"
    },
    {
      "cell_type": "markdown",
      "source": [
        "\n",
        "[WolframAlphaで対角化](https://www.wolframalpha.com/input?i=diagonalize+%7B%7B1%2C1%7D%2C%7B1%2C0%7D%7D&lang=ja)\n",
        "\n",
        "Python（SymPy）なら，`diagonalize`（対角化）を使う。"
      ],
      "metadata": {
        "id": "Xbs6JlHn3Rjt"
      },
      "id": "Xbs6JlHn3Rjt"
    },
    {
      "cell_type": "code",
      "execution_count": null,
      "metadata": {
        "id": "GPw8JKjD3Rjt"
      },
      "outputs": [],
      "source": [
        "from sympy import *\n",
        "\n",
        "def fibonacci(x):\n",
        "  var('n')\n",
        "  A = Matrix([[1, 1], [1, 0]])\n",
        "  P, D = A.diagonalize()\n",
        "  A_n = P * D**n * P.inv()\n",
        "  return simplify(A_n[0, 1].subs(n, x)) # (1,2)成分のnを引数で置き換える。\n",
        "\n",
        "print(fibonacci(10 + 1))"
      ],
      "id": "GPw8JKjD3Rjt"
    },
    {
      "cell_type": "markdown",
      "source": [
        "##### 紙とペン"
      ],
      "metadata": {
        "id": "bqHGj2s63Rju"
      },
      "id": "bqHGj2s63Rju"
    },
    {
      "cell_type": "markdown",
      "source": [
        "\n",
        "**長崎憲一,\n",
        "横山利幸『明解 線形代数』（培風館, 改訂版, 2024）** の方法で対角化する。その結果として，漸化式の解と同じものを得て，漸化式の解を使ったコードと同じコードを書くことになる。♠$A$ は対称行列だから直交行列で対角化できるのだが，ここではそこまでしなくてよい（同書§23を参照）。"
      ],
      "metadata": {
        "id": "pCTHighG3Rju"
      },
      "id": "pCTHighG3Rju"
    },
    {
      "cell_type": "markdown",
      "source": [
        "### ♠母関数（**微分積分**）"
      ],
      "metadata": {
        "id": "DY918sbK3Rju"
      },
      "id": "DY918sbK3Rju"
    },
    {
      "cell_type": "markdown",
      "source": [
        "\n",
        "<img src=\"https://ndlsearch.ndl.go.jp/thumbnail/9784320124646.jpg\" width=\"150\"/> Graham, Knuth, Patashnik『コンピュータの数学』（共立出版, 第2版, 2020） 原題は『Concrete Mathematics』。連続（CONtinuous）と離散（disCRETE）のブレンドが大事だということである。\n",
        "\n",
        "> この本全体で最も重要な概念，すなわち，**母関数**（generating function）の概念に到達した。\n",
        "\n",
        "数列 $\\langle a_0, a_1, a_2, \\dots\\rangle$に対して，\n",
        "$$A(z):=\\sum_{k\\ge 0}a_kz^k=a_0+a_1z+a_2z^2+\\dots$$\n",
        "つまり，$z^k$ の係数が $a_k$ であるような $z$ の多項式（で表される関数）を，その数列の母関数という。"
      ],
      "metadata": {
        "id": "Xf9XEP6W3Rju"
      },
      "id": "Xf9XEP6W3Rju"
    },
    {
      "cell_type": "markdown",
      "source": [
        "#### 母関数の例"
      ],
      "metadata": {
        "id": "GTO0n0Dl3Rjv"
      },
      "id": "GTO0n0Dl3Rjv"
    },
    {
      "cell_type": "markdown",
      "source": [
        "\n",
        "$\\langle 1, 2, 3, 4,\\dots\\rangle$ （一般項は $a_n=n+1$）の母関数は $A(z)=\\dfrac{1}{(1-z)^2}$である。\n",
        "\n",
        "1.  数列から母関数へ\n",
        "    1.  定義に基づいて計算すると，$\\displaystyle\\sum_{k\\ge 0}(k+1)z^k=\\dfrac{1}{(1-z)^2}$ である（[WolframAlpha](https://www.wolframalpha.com/input?i=Sum+%28k%2B1%29z%5Ek%2C+k%3D0+to+infinity&lang=ja)）。\n",
        "    2.  母関数を求める機能を使う（[WolframAlpha](https://www.wolframalpha.com/input?i=GeneratingFunction%5B1%2Bk%2Ck%2Cz%5D&lang=ja)）。\n",
        "2.  母関数から数列へ\n",
        "    1.  母関数 $A$ の，$z=0$ におけるテイラー近似式の $z^n$ の係数が $a_n$ である。つまり，$a_n=\\dfrac{A^{(n)}(0)} {n!}$ で，この場合は $n+1$ になるはず（[WolframAlpha](https://www.wolframalpha.com/input?i=SeriesCoefficient%5B1%2F%281-z%29%5E2%2C%7Bz%2C0%2Cn%7D%5D&lang=ja)）。\n",
        "    2.  テイラー近似式を求める機能を使う（[WolframAlpha](https://www.wolframalpha.com/input?i=series+1%2F%281-z%29%5E2+at+z%3D0+to+order+10&lang=ja)）。\n",
        "\n",
        "テイラー近似式については，**長崎憲一ほか『明解 微分積分』（培風館, 改訂版, 2019）** の§9を参照。\n",
        "\n",
        "Python（SymPy）で1の1，つまり $\\displaystyle\\sum_{k\\ge 0}(k+1)z^k=\\dfrac{1}{(1-z)^2}$を確認する。"
      ],
      "metadata": {
        "id": "TNI8Ebvt3Rjv"
      },
      "id": "TNI8Ebvt3Rjv"
    },
    {
      "cell_type": "code",
      "execution_count": null,
      "metadata": {
        "id": "OGGUSSYG3Rjv"
      },
      "outputs": [],
      "source": [
        "from sympy import *\n",
        "\n",
        "var('k z')\n",
        "simplify(Sum((k + 1) * z**k, (k, 0, oo)).doit())"
      ],
      "id": "OGGUSSYG3Rjv"
    },
    {
      "cell_type": "markdown",
      "source": [
        "2の2，つまりテイラー近似式を確認する。"
      ],
      "metadata": {
        "id": "O0wslGpJ3Rjw"
      },
      "id": "O0wslGpJ3Rjw"
    },
    {
      "cell_type": "code",
      "execution_count": null,
      "metadata": {
        "id": "C9vDEZWo3Rjw"
      },
      "outputs": [],
      "source": [
        "A = 1 / ((1 - z)**2)\n",
        "A.series(z, 0, 10)"
      ],
      "id": "C9vDEZWo3Rjw"
    },
    {
      "cell_type": "markdown",
      "source": [
        "#### 母関数の応用例"
      ],
      "metadata": {
        "id": "T3Kc-iQ13Rjw"
      },
      "id": "T3Kc-iQ13Rjw"
    },
    {
      "cell_type": "markdown",
      "source": [
        "\n",
        "母関数には，今後さまざまなところで再会するだろう。\n",
        "\n",
        "-   統計学では，確率分布の性質を調べるのに母関数が使われる。\n",
        "-   離散数学では，漸化式や組合せを調べるのに使われる。\n",
        "\n",
        "例：1円，5円，10円，50円，100円硬貨を使って20円にする方法は何通りあるか。490円にする方法は？（使わない硬貨があってもよい。）\n",
        "\n",
        "母関数は次のとおり（前掲の『コンピュータの数学』を参照）。"
      ],
      "metadata": {
        "id": "Gesmb7OX3Rjw"
      },
      "id": "Gesmb7OX3Rjw"
    },
    {
      "cell_type": "code",
      "execution_count": null,
      "metadata": {
        "id": "Is5whbem3Rjw"
      },
      "outputs": [],
      "source": [
        "from sympy import *\n",
        "A = 1\n",
        "for k in [1, 5, 10, 50, 100]: A /= 1 - z**k\n",
        "A"
      ],
      "id": "Is5whbem3Rjw"
    },
    {
      "cell_type": "markdown",
      "source": [
        "$z=0$ におけるテイラー近似式の $z^{20}$ の係数が，20円にする方法の数である。"
      ],
      "metadata": {
        "id": "3QATjyHy3Rjx"
      },
      "id": "3QATjyHy3Rjx"
    },
    {
      "cell_type": "code",
      "execution_count": null,
      "metadata": {
        "id": "_EN0dALU3Rjx"
      },
      "outputs": [],
      "source": [
        "n = 20\n",
        "print(A.series(z, 0, n + 1).coeff(z**n))"
      ],
      "id": "_EN0dALU3Rjx"
    },
    {
      "cell_type": "markdown",
      "source": [
        "490円にする方法：[WolframAlpha](https://www.wolframalpha.com/input?i=SeriesCoefficient%5B1%2F%28%281-z%29%281-z%5E5%29%281-z%5E10%29%281-z%5E50%29%281-z%5E100%29%29%2C%7Bz%2C0%2C490%7D%5D&lang=ja)\n",
        "\n",
        "ただし，この方法を数式処理が無い環境で使うのは大変だし，数式処理があっても遅いと使えないという問題がある。そういう場合は，教科書17.1節のように，動的計画法を使うことになる。有名な問題だから，いろんな文献で紹介されている。例：https://github.com/okumuralab/algo-c/blob/main/src/change.c （奥村晴彦『C言語による標準アルゴリズム事典』（技術評論社, 改訂新版, 2018））のコードを実行してみる。"
      ],
      "metadata": {
        "id": "G8JVeruX3Rjx"
      },
      "id": "G8JVeruX3Rjx"
    },
    {
      "cell_type": "code",
      "execution_count": null,
      "metadata": {
        "id": "9NetZyPk3Rjx"
      },
      "outputs": [],
      "source": [
        "%%bash\n",
        "wget -nc -q https://raw.githubusercontent.com/okumuralab/algo-c/refs/heads/main/src/change.c\n",
        "gcc change.c\n",
        "./a.out | head\n",
        "./a.out | tail"
      ],
      "id": "9NetZyPk3Rjx"
    },
    {
      "cell_type": "markdown",
      "source": [
        "#### フィボナッチ数列の母関数"
      ],
      "metadata": {
        "id": "IKB-hGZW3Rjy"
      },
      "id": "IKB-hGZW3Rjy"
    },
    {
      "cell_type": "markdown",
      "source": [
        "\n",
        "フィボナッチ数列の母関数は $A(z)=\\dfrac{z}{1-z-z^2}$ である。理由：フィボナッチ数列 $\\langle0, 1, 1, 2,\\dots\\rangle$ の母関数を $A(z)$ とすると，\n",
        "$$(1-z-z^2)A(z)=A(z)-zA(z)-z^2A(z)=(F_0+F_1z+F_2z^2+\\cdots)-(F_0z+F_1z^2+F_2z^2+\\cdots)-(F_0z^2+F_1z^3+F_2z^4+\\cdots)=F_0+(F_1-F_0)z+(F_2-F_1-F_0)z^2+\\cdots=z.$$\n",
        "\n",
        "1.  数列から母関数へ\n",
        "    1.  定義に基づいて計算すると，$\\displaystyle\\sum_{k\\ge 0}F_kz^k=\\dfrac{z}{1-z-z^2}$ である（[WolframAlpha](https://www.wolframalpha.com/input?i=Sum+Fibonacci%28k%29z%5Ek%2C+k%3D0+to+infinity&lang=ja)）。\n",
        "    2.  母関数を求める機能を使う（[WolframAlpha](https://www.wolframalpha.com/input?i=GeneratingFunction%5BFibonacci%5Bk%5D%2Ck%2Cz%5D&lang=ja)）。\n",
        "2.  母関数から数列へ\n",
        "    1.  母関数 $A$ の，$z=0$ におけるテイラー近似式の $z^n$ の係数が $a_n$ である。つまり，$a_n=\\dfrac{A^{(n)}(0)} {n!}$（[WolframAlpha](https://www.wolframalpha.com/input?i=SeriesCoefficient%5Bz%2F%281-z-z%5E2%29%2C%7Bz%2C0%2Cn%7D%5D&lang=ja)）。\n",
        "    2.  テイラー近似式を求める機能を使う（[WolframAlpha](https://www.wolframalpha.com/input?i=series+z%2F%281-z-z%5E2%29+at+z%3D0+to+order+10&lang=ja)）。"
      ],
      "metadata": {
        "id": "mKuj5kGS3Rjy"
      },
      "id": "mKuj5kGS3Rjy"
    },
    {
      "cell_type": "code",
      "execution_count": null,
      "metadata": {
        "id": "mdEpeviC3Rjy"
      },
      "outputs": [],
      "source": [
        "from sympy import *\n",
        "\n",
        "def fibonacci(n):\n",
        "  var('z')\n",
        "  A = z / (1 - z - z**2)\n",
        "  return diff(A, z, n).subs(z, 0) / factorial(n)\n",
        "  #return A.series(z, 0, n + 1).coeff(z**n)\n",
        "\n",
        "print(fibonacci(10 + 1))"
      ],
      "id": "mdEpeviC3Rjy"
    },
    {
      "cell_type": "markdown",
      "source": [
        "#### 整数計算"
      ],
      "metadata": {
        "id": "E3QLXzfO3Rjy"
      },
      "id": "E3QLXzfO3Rjy"
    },
    {
      "cell_type": "markdown",
      "source": [
        "\n",
        "数式処理（PyhtonならSymPy）があれば，母関数のテイラー近似式からフィボナッチ数列を求められる。しかし，Aizu Online Judgeのように，SymPyが使えない環境もある。ここでは，そういう環境でも使える，母関数の活用法を紹介する。\n",
        "\n",
        "試しに，$A(\\frac{1}{100})$ を求めてみよう。"
      ],
      "metadata": {
        "id": "TqKfecX_3Rjy"
      },
      "id": "TqKfecX_3Rjy"
    },
    {
      "cell_type": "code",
      "execution_count": null,
      "metadata": {
        "id": "0Houc1Ho3Rjz"
      },
      "outputs": [],
      "source": [
        "from sympy import *\n",
        "\n",
        "var('z')\n",
        "A = Lambda(z, z / (1 - z - z**2))\n",
        "N(A(Rational(1, 100)))"
      ],
      "id": "0Houc1Ho3Rjz"
    },
    {
      "cell_type": "markdown",
      "source": [
        "2桁ずつ読んでいくと，0, 01, 01, 02, 03, 05, 08, 13, 21，とフィボナッチ数列になっている。このことは，$A(z)=F_0+F_1z+F_2z^2+\\dots$ だから，$A(\\frac{1}{100})$ が\n",
        "$$F_0+\\dfrac{F_1}{100}+\\dfrac{F_2}{10000}+\\dfrac{F_3}{1000000}+\\dots\n",
        "=0+\\dfrac{1}{100}+\\dfrac{1}{10000}+\\dfrac{2}{1000000}+\\dots\n",
        "=0.010102\\cdots$$\n",
        "となることから納得できる。\n",
        "\n",
        "例えば $F_3$ を知りたいときは，\n",
        "\n",
        "1.  $A(\\frac{1}{100})$ に$1000000=100^3$を掛けて，$10102.0\\dots$ として\n",
        "2.  整数部分だけ残して，$10102$ として，\n",
        "3.  $100$ で割った余りを求めて，$2$ を得る\n",
        "\n",
        "とすればよさそうである。\n",
        "\n",
        "しかし，試してみると，途中でうまく行かなくなる（$55$ の次は $89$ のはず）。"
      ],
      "metadata": {
        "id": "BHMmL8Tp3Rjz"
      },
      "id": "BHMmL8Tp3Rjz"
    },
    {
      "cell_type": "code",
      "execution_count": null,
      "metadata": {
        "id": "caWMZ-5v3Rj2"
      },
      "outputs": [],
      "source": [
        "def fibonacci(n):\n",
        "  var('z')\n",
        "  A = Lambda(z, z / (1 - z - z**2))\n",
        "  p = 100\n",
        "  return int(p**n * A(Rational(1, p))) % p\n",
        "\n",
        "[fibonacci(n) for n in range(15)]"
      ],
      "id": "caWMZ-5v3Rj2"
    },
    {
      "cell_type": "markdown",
      "source": [
        "うまく行かなくなるのは，$89$ の次が $144$（3桁）で，2桁ずつ読む方法では扱えないからである。\n",
        "\n",
        "対策として，$A(\\frac{1}{100})$ ではなく，$A(\\frac{1}{10^n})$ として，各数を表すのに使う桁数を増やしていく。そのために`100`を`10**n`に変える（このパラメータを $p$ とする）。実は $p$ はもっと小さくてもよい（例：$p=2^n+1$，あるいは，$p=2^{n+1}$）。"
      ],
      "metadata": {
        "id": "Ny1HQK893Rj3"
      },
      "id": "Ny1HQK893Rj3"
    },
    {
      "cell_type": "code",
      "execution_count": null,
      "metadata": {
        "id": "cPTt79XY3Rj3"
      },
      "outputs": [],
      "source": [
        "def fibonacci(n):\n",
        "  var('z')\n",
        "  A = Lambda(z, z / (1 - z - z**2))\n",
        "  p = 10**n\n",
        "  return int(p**n * A(Rational(1, p))) % p\n",
        "\n",
        "[fibonacci(n) for n in range(15)]"
      ],
      "id": "cPTt79XY3Rj3"
    },
    {
      "cell_type": "markdown",
      "source": [
        "$A(\\frac{1}{p})=\\dfrac{\\frac{1}{p}}{1-p-\\frac{1}{p^2}}$ の分母と分子に $p^2$ を掛けて $A(\\frac{1}{p})=\\dfrac{p}{p^2-p-1}$ とすると，計算しやすくなる。"
      ],
      "metadata": {
        "id": "kzDl_--R3Rj3"
      },
      "id": "kzDl_--R3Rj3"
    },
    {
      "cell_type": "code",
      "execution_count": null,
      "metadata": {
        "id": "dxhKcRK53Rj3"
      },
      "outputs": [],
      "source": [
        "def fibonacci(n):\n",
        "  p = 10**n\n",
        "  return (p**n * p // (p**2 - p - 1)) % p\n",
        "\n",
        "[fibonacci(n) for n in range(15)]"
      ],
      "id": "dxhKcRK53Rj3"
    },
    {
      "cell_type": "markdown",
      "source": [
        "これでオンラインジャッジも通るはずだが，もう少し工夫できる。まず，$F_n$ を求めるのに $10^n$ として 10進数で $n$ 桁使うのは無駄である。$2^{n+1}$ 程度でよい。"
      ],
      "metadata": {
        "id": "2Sqiyzgi3Rj3"
      },
      "id": "2Sqiyzgi3Rj3"
    },
    {
      "cell_type": "code",
      "execution_count": null,
      "metadata": {
        "id": "MbftKIo83Rj3"
      },
      "outputs": [],
      "source": [
        "def fibonacci(n):\n",
        "  p = 2**(n + 1)\n",
        "  return (p**n * p // (p**2 - p - 1)) % p\n",
        "\n",
        "[fibonacci(n) for n in range(15)]"
      ],
      "id": "MbftKIo83Rj3"
    },
    {
      "cell_type": "markdown",
      "source": [
        "さらに，累乗「`2**(n + 1)`」の代わりにビットシフト「`2 << n`」，剰余「`% p`」の代わりにビット論理積「`& (p - 1)`」を使って高速化を試みる。"
      ],
      "metadata": {
        "id": "GNPlweqq3Rj4"
      },
      "id": "GNPlweqq3Rj4"
    },
    {
      "cell_type": "code",
      "execution_count": null,
      "metadata": {
        "id": "LYdUcfyp3Rj4"
      },
      "outputs": [],
      "source": [
        "%%writefile test.py\n",
        "def fibonacci(n):\n",
        "  p = 2 << n\n",
        "  return ((p << (n * n + n)) // ((p << (n + 1)) - p - 1)) & (p - 1)\n",
        "\n",
        "n = int(input())\n",
        "print(fibonacci(n + 1))"
      ],
      "id": "LYdUcfyp3Rj4"
    },
    {
      "cell_type": "code",
      "execution_count": null,
      "metadata": {
        "id": "KGqC3xCT3Rj4"
      },
      "outputs": [],
      "source": [
        "!echo 10 | python3 test.py"
      ],
      "id": "KGqC3xCT3Rj4"
    },
    {
      "cell_type": "markdown",
      "source": [
        "### ♠アート"
      ],
      "metadata": {
        "id": "pDJYDhRn3Rj4"
      },
      "id": "pDJYDhRn3Rj4"
    },
    {
      "cell_type": "markdown",
      "source": [
        "\n",
        "フィボナッチ数列はアートにも使われる。特に，フィボナッチ数列の隣接2項の比 $\\dfrac{F_n}{F_{n-1}}$ は，$n$ が大きくなると**黄金比** $\\phi:=\\dfrac{1+\\sqrt 5}{2}$ に近づく。\n",
        "\n",
        "[フィボナッチ数（Wikipedia）](https://ja.wikipedia.org/wiki/%E3%83%95%E3%82%A3%E3%83%9C%E3%83%8A%E3%83%83%E3%83%81%E6%95%B0)"
      ],
      "metadata": {
        "id": "C0g-x6ET3Rj4"
      },
      "id": "C0g-x6ET3Rj4"
    },
    {
      "cell_type": "markdown",
      "source": [
        "## 最長共通部分列"
      ],
      "metadata": {
        "id": "iIneQd3q3Rj5"
      },
      "id": "iIneQd3q3Rj5"
    },
    {
      "cell_type": "markdown",
      "source": [],
      "metadata": {
        "id": "gyZKcoNB3Rj5"
      },
      "id": "gyZKcoNB3Rj5"
    },
    {
      "cell_type": "markdown",
      "source": [
        "### 準備：二次元配列の初期化方法"
      ],
      "metadata": {
        "id": "HRegw1rV3Rj5"
      },
      "id": "HRegw1rV3Rj5"
    },
    {
      "cell_type": "code",
      "execution_count": null,
      "metadata": {
        "id": "5rtIKu5c3Rj5"
      },
      "outputs": [],
      "source": [
        "# 悪い例\n",
        "A = [[0] * 3] * 4\n",
        "A"
      ],
      "id": "5rtIKu5c3Rj5"
    },
    {
      "cell_type": "markdown",
      "source": [
        "実体が同じリストを4個作ってしまう。一部を変えると全部変わる。"
      ],
      "metadata": {
        "id": "70jDPcSk3Rj5"
      },
      "id": "70jDPcSk3Rj5"
    },
    {
      "cell_type": "code",
      "execution_count": null,
      "metadata": {
        "id": "aNhuJ-Mz3Rj6"
      },
      "outputs": [],
      "source": [
        "A[0][1] = 1\n",
        "A"
      ],
      "id": "aNhuJ-Mz3Rj6"
    },
    {
      "cell_type": "code",
      "execution_count": null,
      "metadata": {
        "id": "a_EbD8du3Rj6"
      },
      "outputs": [],
      "source": [
        "# 良い例\n",
        "A = [[0] * 3 for _ in range(4)]\n",
        "A"
      ],
      "id": "a_EbD8du3Rj6"
    },
    {
      "cell_type": "code",
      "execution_count": null,
      "metadata": {
        "id": "UBWZ26Do3Rj6"
      },
      "outputs": [],
      "source": [
        "A[0][1] = 1\n",
        "A"
      ],
      "id": "UBWZ26Do3Rj6"
    },
    {
      "cell_type": "markdown",
      "source": [
        "### 本題"
      ],
      "metadata": {
        "id": "yIDaYzmo3Rj6"
      },
      "id": "yIDaYzmo3Rj6"
    },
    {
      "cell_type": "markdown",
      "source": [
        "\n",
        "問題：[ALDS1_10_C](https://onlinejudge.u-aizu.ac.jp/courses/lesson/1/ALDS1/10/ALDS1_10_C) (Longest Common Subsequence)"
      ],
      "metadata": {
        "id": "aXiae7kq3Rj6"
      },
      "id": "aXiae7kq3Rj6"
    },
    {
      "cell_type": "code",
      "execution_count": null,
      "metadata": {
        "id": "wjNB16Nt3Rj6"
      },
      "outputs": [],
      "source": [
        "%%writefile input.dat\n",
        "3\n",
        "abcbdab\n",
        "bdcaba\n",
        "abc\n",
        "abc\n",
        "abc\n",
        "bc"
      ],
      "id": "wjNB16Nt3Rj6"
    },
    {
      "cell_type": "markdown",
      "source": [
        "教科書に合わせて，1オリジンのコードを書く。"
      ],
      "metadata": {
        "id": "dR9QGeTK3Rj6"
      },
      "id": "dR9QGeTK3Rj6"
    },
    {
      "cell_type": "code",
      "execution_count": 7,
      "metadata": {
        "id": "1kbPuvBq3Rj6",
        "outputId": "755ec245-01ec-4257-eb45-8b9a5e532a4c",
        "colab": {
          "base_uri": "https://localhost:8080/"
        }
      },
      "outputs": [
        {
          "output_type": "stream",
          "name": "stdout",
          "text": [
            "Overwriting test.py\n"
          ]
        }
      ],
      "source": [
        "%%writefile test.py\n",
        "# 0オリジンでもできる\n",
        "def lcs(X, Y):\n",
        "  m, n = len(X), len(Y)\n",
        "  c = [[0] * (n + 1) for _ in range(m + 1)] # 文字列Xを1オリジンにする（先頭は使わない）\n",
        "  # 文字列Yを1オリジンにする（先頭は使わない）\n",
        "  # c[i][j]の初期化。C[i][j]はX[1..i]とY[1..j]のLCSの長さ\n",
        "\n",
        "  for i in range(m): # Xの文字についてのループ\n",
        "    for j in range(n): # Yの文字についてのループ\n",
        "      if X[i] == Y[j]: c[i + 1][j + 1] = c[i][j] + 1 # 自分で書く\n",
        "      else: c[i + j][j + 1] = max(c[i][j + 1], c[i + 1][j])\n",
        "  return c[m][n]\n",
        "\n",
        "q = int(input())\n",
        "for _ in range(q):\n",
        "  s1 = input()\n",
        "  s2 = input()\n",
        "  print(lcs(s1, s2))"
      ],
      "id": "1kbPuvBq3Rj6"
    },
    {
      "cell_type": "code",
      "execution_count": null,
      "metadata": {
        "id": "-tHu55ld3Rj6"
      },
      "outputs": [],
      "source": [
        "!python3 test.py < input.dat"
      ],
      "id": "-tHu55ld3Rj6"
    },
    {
      "cell_type": "markdown",
      "source": [
        "TLEになる場合はPyPyを使う。あるいはC++に翻訳する。\n",
        "\n",
        "♠[F - LCS](https://atcoder.jp/contests/dp/tasks/dp_f)"
      ],
      "metadata": {
        "id": "I2FfSIGO3Rj7"
      },
      "id": "I2FfSIGO3Rj7"
    },
    {
      "cell_type": "markdown",
      "source": [
        "## 連鎖行列積"
      ],
      "metadata": {
        "id": "CHhnJETk3Rj7"
      },
      "id": "CHhnJETk3Rj7"
    },
    {
      "cell_type": "markdown",
      "source": [
        "\n",
        "問題：[ALDS1_10_B](https://onlinejudge.u-aizu.ac.jp/courses/lesson/1/ALDS1/10/ALDS1_10_B) (Matrix Chain Multiplication)"
      ],
      "metadata": {
        "id": "Y2nv51v73Rj7"
      },
      "id": "Y2nv51v73Rj7"
    },
    {
      "cell_type": "code",
      "execution_count": null,
      "metadata": {
        "id": "MgqPpMvk3Rj7"
      },
      "outputs": [],
      "source": [
        "%%writefile input.dat\n",
        "6\n",
        "30 35\n",
        "35 15\n",
        "15 5\n",
        "5 10\n",
        "10 20\n",
        "20 25"
      ],
      "id": "MgqPpMvk3Rj7"
    },
    {
      "cell_type": "code",
      "execution_count": null,
      "metadata": {
        "id": "AiBtXnUQ3Rj7"
      },
      "outputs": [],
      "source": [
        "%%writefile test.py\n",
        "n = int(input())\n",
        "p = [None] * (n + 1)\n",
        "m = [[0] * (n + 1) for _ in range(n + 1)]\n",
        "\n",
        "for i in range(1, n + 1):\n",
        "  p[i - 1], p[i] = map(int, input().split())\n",
        "\n",
        "for l in range(2, n + 1):\n",
        "  for i in range(1, n - l + 2):\n",
        "    j = i + l - 1\n",
        "    m[i][j] = min(m[i][j], m[i][k] + m[k + 1][j] + p[i -1] * p[k] * p[j]):\n",
        "\n",
        "print(m[1][n])"
      ],
      "id": "AiBtXnUQ3Rj7"
    },
    {
      "cell_type": "code",
      "execution_count": null,
      "metadata": {
        "id": "wj9YadQH3Rj7"
      },
      "outputs": [],
      "source": [
        "!python3 test.py < input.dat"
      ],
      "id": "wj9YadQH3Rj7"
    },
    {
      "cell_type": "markdown",
      "source": [
        "♠行列の積はNumPyで計算するのが一般的である。`M1`, `M2`, `M3`の積を計算するときに，ここで扱ったようなことは考慮されるか？"
      ],
      "metadata": {
        "id": "YUu2FOtm3Rj7"
      },
      "id": "YUu2FOtm3Rj7"
    },
    {
      "cell_type": "markdown",
      "source": [
        "## 宿題"
      ],
      "metadata": {
        "id": "hMbkxTtO3Rj7"
      },
      "id": "hMbkxTtO3Rj7"
    },
    {
      "cell_type": "markdown",
      "source": [
        "\n",
        "以下の問題をAC（Accepted）にする。Pythonを使うこと。\n",
        "\n",
        "-   [ALDS1_10_A](https://onlinejudge.u-aizu.ac.jp/courses/lesson/1/ALDS1/10/ALDS1_10_A) (Fibonacci Numbers)\n",
        "-   ♠[049 - Fibonacci Easy (mod 1000000007)](https://atcoder.jp/contests/math-and-algorithm/tasks/math_and_algorithm_ap)\n",
        "-   ♠[054 - Fibonacci Hard (mod 1000000000)](https://atcoder.jp/contests/math-and-algorithm/tasks/math_and_algorithm_at)）\n",
        "-   [ALDS1_10_C](https://onlinejudge.u-aizu.ac.jp/courses/lesson/1/ALDS1/10/ALDS1_10_C) (Longest Common Subsequence)\n",
        "-   [ALDS1_10_B](https://onlinejudge.u-aizu.ac.jp/courses/lesson/1/ALDS1/10/ALDS1_10_B) (Matrix Chain Multiplication)\n",
        "\n",
        "以上"
      ],
      "metadata": {
        "id": "j-8hsWQK3Rj8"
      },
      "id": "j-8hsWQK3Rj8"
    }
  ],
  "nbformat": 4,
  "nbformat_minor": 5,
  "metadata": {
    "colab": {
      "provenance": []
    },
    "language_info": {
      "name": "python"
    },
    "kernelspec": {
      "name": "python3",
      "display_name": "Python 3"
    }
  }
}